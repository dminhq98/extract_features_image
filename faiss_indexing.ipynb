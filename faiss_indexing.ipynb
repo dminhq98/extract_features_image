{
  "nbformat": 4,
  "nbformat_minor": 0,
  "metadata": {
    "colab": {
      "name": "Faiss_Test.ipynb",
      "provenance": [],
      "collapsed_sections": [],
      "toc_visible": true,
      "authorship_tag": "ABX9TyOIo7zBIuPIwshbQhXTGC59",
      "include_colab_link": true
    },
    "kernelspec": {
      "name": "python3",
      "display_name": "Python 3"
    },
    "accelerator": "GPU",
    "widgets": {
      "application/vnd.jupyter.widget-state+json": {
        "da3db81a4333468ea5575941c2d3c563": {
          "model_module": "@jupyter-widgets/controls",
          "model_name": "HBoxModel",
          "state": {
            "_view_name": "HBoxView",
            "_dom_classes": [],
            "_model_name": "HBoxModel",
            "_view_module": "@jupyter-widgets/controls",
            "_model_module_version": "1.5.0",
            "_view_count": null,
            "_view_module_version": "1.5.0",
            "box_style": "",
            "layout": "IPY_MODEL_37b1d3fac4b746339eac72a173576205",
            "_model_module": "@jupyter-widgets/controls",
            "children": [
              "IPY_MODEL_61ac668ed131459ca3d082fac7279582",
              "IPY_MODEL_c2148e939d6d44a0b37c698d7aa73f89"
            ]
          }
        },
        "37b1d3fac4b746339eac72a173576205": {
          "model_module": "@jupyter-widgets/base",
          "model_name": "LayoutModel",
          "state": {
            "_view_name": "LayoutView",
            "grid_template_rows": null,
            "right": null,
            "justify_content": null,
            "_view_module": "@jupyter-widgets/base",
            "overflow": null,
            "_model_module_version": "1.2.0",
            "_view_count": null,
            "flex_flow": null,
            "width": null,
            "min_width": null,
            "border": null,
            "align_items": null,
            "bottom": null,
            "_model_module": "@jupyter-widgets/base",
            "top": null,
            "grid_column": null,
            "overflow_y": null,
            "overflow_x": null,
            "grid_auto_flow": null,
            "grid_area": null,
            "grid_template_columns": null,
            "flex": null,
            "_model_name": "LayoutModel",
            "justify_items": null,
            "grid_row": null,
            "max_height": null,
            "align_content": null,
            "visibility": null,
            "align_self": null,
            "height": null,
            "min_height": null,
            "padding": null,
            "grid_auto_rows": null,
            "grid_gap": null,
            "max_width": null,
            "order": null,
            "_view_module_version": "1.2.0",
            "grid_template_areas": null,
            "object_position": null,
            "object_fit": null,
            "grid_auto_columns": null,
            "margin": null,
            "display": null,
            "left": null
          }
        },
        "61ac668ed131459ca3d082fac7279582": {
          "model_module": "@jupyter-widgets/controls",
          "model_name": "IntProgressModel",
          "state": {
            "_view_name": "ProgressView",
            "style": "IPY_MODEL_a199e9e5bb184c38bebd795b95e20f6d",
            "_dom_classes": [],
            "description": "",
            "_model_name": "IntProgressModel",
            "bar_style": "success",
            "max": 102502400,
            "_view_module": "@jupyter-widgets/controls",
            "_model_module_version": "1.5.0",
            "value": 102502400,
            "_view_count": null,
            "_view_module_version": "1.5.0",
            "orientation": "horizontal",
            "min": 0,
            "description_tooltip": null,
            "_model_module": "@jupyter-widgets/controls",
            "layout": "IPY_MODEL_af921d3de0664f439cc51cce5fa10f1a"
          }
        },
        "c2148e939d6d44a0b37c698d7aa73f89": {
          "model_module": "@jupyter-widgets/controls",
          "model_name": "HTMLModel",
          "state": {
            "_view_name": "HTMLView",
            "style": "IPY_MODEL_a2c3b5c14d404c3c85e8ccdb63131e4a",
            "_dom_classes": [],
            "description": "",
            "_model_name": "HTMLModel",
            "placeholder": "​",
            "_view_module": "@jupyter-widgets/controls",
            "_model_module_version": "1.5.0",
            "value": "100% 97.8M/97.8M [00:00&lt;00:00, 242MB/s]",
            "_view_count": null,
            "_view_module_version": "1.5.0",
            "description_tooltip": null,
            "_model_module": "@jupyter-widgets/controls",
            "layout": "IPY_MODEL_e2b764039cfb4dd8947eb513a66cb77f"
          }
        },
        "a199e9e5bb184c38bebd795b95e20f6d": {
          "model_module": "@jupyter-widgets/controls",
          "model_name": "ProgressStyleModel",
          "state": {
            "_view_name": "StyleView",
            "_model_name": "ProgressStyleModel",
            "description_width": "",
            "_view_module": "@jupyter-widgets/base",
            "_model_module_version": "1.5.0",
            "_view_count": null,
            "_view_module_version": "1.2.0",
            "bar_color": null,
            "_model_module": "@jupyter-widgets/controls"
          }
        },
        "af921d3de0664f439cc51cce5fa10f1a": {
          "model_module": "@jupyter-widgets/base",
          "model_name": "LayoutModel",
          "state": {
            "_view_name": "LayoutView",
            "grid_template_rows": null,
            "right": null,
            "justify_content": null,
            "_view_module": "@jupyter-widgets/base",
            "overflow": null,
            "_model_module_version": "1.2.0",
            "_view_count": null,
            "flex_flow": null,
            "width": null,
            "min_width": null,
            "border": null,
            "align_items": null,
            "bottom": null,
            "_model_module": "@jupyter-widgets/base",
            "top": null,
            "grid_column": null,
            "overflow_y": null,
            "overflow_x": null,
            "grid_auto_flow": null,
            "grid_area": null,
            "grid_template_columns": null,
            "flex": null,
            "_model_name": "LayoutModel",
            "justify_items": null,
            "grid_row": null,
            "max_height": null,
            "align_content": null,
            "visibility": null,
            "align_self": null,
            "height": null,
            "min_height": null,
            "padding": null,
            "grid_auto_rows": null,
            "grid_gap": null,
            "max_width": null,
            "order": null,
            "_view_module_version": "1.2.0",
            "grid_template_areas": null,
            "object_position": null,
            "object_fit": null,
            "grid_auto_columns": null,
            "margin": null,
            "display": null,
            "left": null
          }
        },
        "a2c3b5c14d404c3c85e8ccdb63131e4a": {
          "model_module": "@jupyter-widgets/controls",
          "model_name": "DescriptionStyleModel",
          "state": {
            "_view_name": "StyleView",
            "_model_name": "DescriptionStyleModel",
            "description_width": "",
            "_view_module": "@jupyter-widgets/base",
            "_model_module_version": "1.5.0",
            "_view_count": null,
            "_view_module_version": "1.2.0",
            "_model_module": "@jupyter-widgets/controls"
          }
        },
        "e2b764039cfb4dd8947eb513a66cb77f": {
          "model_module": "@jupyter-widgets/base",
          "model_name": "LayoutModel",
          "state": {
            "_view_name": "LayoutView",
            "grid_template_rows": null,
            "right": null,
            "justify_content": null,
            "_view_module": "@jupyter-widgets/base",
            "overflow": null,
            "_model_module_version": "1.2.0",
            "_view_count": null,
            "flex_flow": null,
            "width": null,
            "min_width": null,
            "border": null,
            "align_items": null,
            "bottom": null,
            "_model_module": "@jupyter-widgets/base",
            "top": null,
            "grid_column": null,
            "overflow_y": null,
            "overflow_x": null,
            "grid_auto_flow": null,
            "grid_area": null,
            "grid_template_columns": null,
            "flex": null,
            "_model_name": "LayoutModel",
            "justify_items": null,
            "grid_row": null,
            "max_height": null,
            "align_content": null,
            "visibility": null,
            "align_self": null,
            "height": null,
            "min_height": null,
            "padding": null,
            "grid_auto_rows": null,
            "grid_gap": null,
            "max_width": null,
            "order": null,
            "_view_module_version": "1.2.0",
            "grid_template_areas": null,
            "object_position": null,
            "object_fit": null,
            "grid_auto_columns": null,
            "margin": null,
            "display": null,
            "left": null
          }
        }
      }
    }
  },
  "cells": [
    {
      "cell_type": "markdown",
      "metadata": {
        "id": "view-in-github",
        "colab_type": "text"
      },
      "source": [
        "<a href=\"https://colab.research.google.com/github/dminhq98/extract_features_image/blob/master/faiss_indexing.ipynb\" target=\"_parent\"><img src=\"https://colab.research.google.com/assets/colab-badge.svg\" alt=\"Open In Colab\"/></a>"
      ]
    },
    {
      "cell_type": "code",
      "metadata": {
        "id": "Cn8UBY8n5sYz",
        "colab_type": "code",
        "outputId": "5a27374f-508e-49f2-8437-f26a3850a00e",
        "colab": {
          "base_uri": "https://localhost:8080/",
          "height": 207
        }
      },
      "source": [
        "pip install annoy"
      ],
      "execution_count": 1,
      "outputs": [
        {
          "output_type": "stream",
          "text": [
            "Collecting annoy\n",
            "\u001b[?25l  Downloading https://files.pythonhosted.org/packages/00/15/5a9db225ebda93a235aebd5e42bbf83ab7035e7e4783c6cb528c635c9afb/annoy-1.16.3.tar.gz (644kB)\n",
            "\r\u001b[K     |▌                               | 10kB 27.1MB/s eta 0:00:01\r\u001b[K     |█                               | 20kB 32.3MB/s eta 0:00:01\r\u001b[K     |█▌                              | 30kB 35.5MB/s eta 0:00:01\r\u001b[K     |██                              | 40kB 38.3MB/s eta 0:00:01\r\u001b[K     |██▌                             | 51kB 40.1MB/s eta 0:00:01\r\u001b[K     |███                             | 61kB 40.6MB/s eta 0:00:01\r\u001b[K     |███▋                            | 71kB 41.5MB/s eta 0:00:01\r\u001b[K     |████                            | 81kB 41.7MB/s eta 0:00:01\r\u001b[K     |████▋                           | 92kB 42.2MB/s eta 0:00:01\r\u001b[K     |█████                           | 102kB 42.6MB/s eta 0:00:01\r\u001b[K     |█████▋                          | 112kB 42.6MB/s eta 0:00:01\r\u001b[K     |██████                          | 122kB 42.6MB/s eta 0:00:01\r\u001b[K     |██████▋                         | 133kB 42.6MB/s eta 0:00:01\r\u001b[K     |███████▏                        | 143kB 42.6MB/s eta 0:00:01\r\u001b[K     |███████▋                        | 153kB 42.6MB/s eta 0:00:01\r\u001b[K     |████████▏                       | 163kB 42.6MB/s eta 0:00:01\r\u001b[K     |████████▋                       | 174kB 42.6MB/s eta 0:00:01\r\u001b[K     |█████████▏                      | 184kB 42.6MB/s eta 0:00:01\r\u001b[K     |█████████▋                      | 194kB 42.6MB/s eta 0:00:01\r\u001b[K     |██████████▏                     | 204kB 42.6MB/s eta 0:00:01\r\u001b[K     |██████████▊                     | 215kB 42.6MB/s eta 0:00:01\r\u001b[K     |███████████▏                    | 225kB 42.6MB/s eta 0:00:01\r\u001b[K     |███████████▊                    | 235kB 42.6MB/s eta 0:00:01\r\u001b[K     |████████████▏                   | 245kB 42.6MB/s eta 0:00:01\r\u001b[K     |████████████▊                   | 256kB 42.6MB/s eta 0:00:01\r\u001b[K     |█████████████▎                  | 266kB 42.6MB/s eta 0:00:01\r\u001b[K     |█████████████▊                  | 276kB 42.6MB/s eta 0:00:01\r\u001b[K     |██████████████▎                 | 286kB 42.6MB/s eta 0:00:01\r\u001b[K     |██████████████▊                 | 296kB 42.6MB/s eta 0:00:01\r\u001b[K     |███████████████▎                | 307kB 42.6MB/s eta 0:00:01\r\u001b[K     |███████████████▊                | 317kB 42.6MB/s eta 0:00:01\r\u001b[K     |████████████████▎               | 327kB 42.6MB/s eta 0:00:01\r\u001b[K     |████████████████▉               | 337kB 42.6MB/s eta 0:00:01\r\u001b[K     |█████████████████▎              | 348kB 42.6MB/s eta 0:00:01\r\u001b[K     |█████████████████▉              | 358kB 42.6MB/s eta 0:00:01\r\u001b[K     |██████████████████▎             | 368kB 42.6MB/s eta 0:00:01\r\u001b[K     |██████████████████▉             | 378kB 42.6MB/s eta 0:00:01\r\u001b[K     |███████████████████▎            | 389kB 42.6MB/s eta 0:00:01\r\u001b[K     |███████████████████▉            | 399kB 42.6MB/s eta 0:00:01\r\u001b[K     |████████████████████▍           | 409kB 42.6MB/s eta 0:00:01\r\u001b[K     |████████████████████▉           | 419kB 42.6MB/s eta 0:00:01\r\u001b[K     |█████████████████████▍          | 430kB 42.6MB/s eta 0:00:01\r\u001b[K     |█████████████████████▉          | 440kB 42.6MB/s eta 0:00:01\r\u001b[K     |██████████████████████▍         | 450kB 42.6MB/s eta 0:00:01\r\u001b[K     |██████████████████████▉         | 460kB 42.6MB/s eta 0:00:01\r\u001b[K     |███████████████████████▍        | 471kB 42.6MB/s eta 0:00:01\r\u001b[K     |████████████████████████        | 481kB 42.6MB/s eta 0:00:01\r\u001b[K     |████████████████████████▍       | 491kB 42.6MB/s eta 0:00:01\r\u001b[K     |█████████████████████████       | 501kB 42.6MB/s eta 0:00:01\r\u001b[K     |█████████████████████████▍      | 512kB 42.6MB/s eta 0:00:01\r\u001b[K     |██████████████████████████      | 522kB 42.6MB/s eta 0:00:01\r\u001b[K     |██████████████████████████▌     | 532kB 42.6MB/s eta 0:00:01\r\u001b[K     |███████████████████████████     | 542kB 42.6MB/s eta 0:00:01\r\u001b[K     |███████████████████████████▌    | 552kB 42.6MB/s eta 0:00:01\r\u001b[K     |████████████████████████████    | 563kB 42.6MB/s eta 0:00:01\r\u001b[K     |████████████████████████████▌   | 573kB 42.6MB/s eta 0:00:01\r\u001b[K     |█████████████████████████████   | 583kB 42.6MB/s eta 0:00:01\r\u001b[K     |█████████████████████████████▌  | 593kB 42.6MB/s eta 0:00:01\r\u001b[K     |██████████████████████████████  | 604kB 42.6MB/s eta 0:00:01\r\u001b[K     |██████████████████████████████▌ | 614kB 42.6MB/s eta 0:00:01\r\u001b[K     |███████████████████████████████ | 624kB 42.6MB/s eta 0:00:01\r\u001b[K     |███████████████████████████████▌| 634kB 42.6MB/s eta 0:00:01\r\u001b[K     |████████████████████████████████| 645kB 42.6MB/s \n",
            "\u001b[?25hBuilding wheels for collected packages: annoy\n",
            "  Building wheel for annoy (setup.py) ... \u001b[?25l\u001b[?25hdone\n",
            "  Created wheel for annoy: filename=annoy-1.16.3-cp36-cp36m-linux_x86_64.whl size=297346 sha256=e6e7056575ef251cc6820e43d89af0ab4a9488d0423a9aed68e229c016e0e0ef\n",
            "  Stored in directory: /root/.cache/pip/wheels/f3/01/54/6ef760fe9f9fc6ba8c19cebbe6358212b5f3b5b0195c0b813f\n",
            "Successfully built annoy\n",
            "Installing collected packages: annoy\n",
            "Successfully installed annoy-1.16.3\n"
          ],
          "name": "stdout"
        }
      ]
    },
    {
      "cell_type": "code",
      "metadata": {
        "id": "wiOiN7336eax",
        "colab_type": "code",
        "outputId": "585a5189-a8f2-46e3-aa75-325d86546536",
        "colab": {
          "base_uri": "https://localhost:8080/",
          "height": 139
        }
      },
      "source": [
        "pip install faiss-gpu"
      ],
      "execution_count": 2,
      "outputs": [
        {
          "output_type": "stream",
          "text": [
            "Collecting faiss-gpu\n",
            "\u001b[?25l  Downloading https://files.pythonhosted.org/packages/0a/8d/d630c7ec7ad93feed005994c9849843d33bed08cf621ffb74fe9f81a45e2/faiss_gpu-1.6.1-cp36-cp36m-manylinux2010_x86_64.whl (41.0MB)\n",
            "\u001b[K     |████████████████████████████████| 41.0MB 74kB/s \n",
            "\u001b[?25hRequirement already satisfied: numpy in /usr/local/lib/python3.6/dist-packages (from faiss-gpu) (1.17.5)\n",
            "Installing collected packages: faiss-gpu\n",
            "Successfully installed faiss-gpu-1.6.1\n"
          ],
          "name": "stdout"
        }
      ]
    },
    {
      "cell_type": "markdown",
      "metadata": {
        "id": "jO61iZDj7NiH",
        "colab_type": "text"
      },
      "source": [
        "# Dataset"
      ]
    },
    {
      "cell_type": "code",
      "metadata": {
        "id": "x79FgRCd6k0v",
        "colab_type": "code",
        "outputId": "caa7e4fc-0f66-4e75-c802-c3cd77d81702",
        "colab": {
          "base_uri": "https://localhost:8080/",
          "height": 34
        }
      },
      "source": [
        "import urllib.request\n",
        "urllib.request.urlretrieve('ftp://ftp.inrialpes.fr/pub/lear/douze/data/jpg1.tar.gz', 'jpg1.tar.gz')\n",
        "urllib.request.urlretrieve('ftp://ftp.inrialpes.fr/pub/lear/douze/data/jpg2.tar.gz', 'jpg2.tar.gz')"
      ],
      "execution_count": 3,
      "outputs": [
        {
          "output_type": "execute_result",
          "data": {
            "text/plain": [
              "('jpg2.tar.gz', <email.message.Message at 0x7fa371490780>)"
            ]
          },
          "metadata": {
            "tags": []
          },
          "execution_count": 3
        }
      ]
    },
    {
      "cell_type": "code",
      "metadata": {
        "id": "awLApNF96xmy",
        "colab_type": "code",
        "colab": {}
      },
      "source": [
        "import tarfile\n",
        "my_tar = tarfile.open('jpg1.tar.gz')\n",
        "my_tar.extractall() \n",
        "my_tar = tarfile.open('jpg2.tar.gz')\n",
        "my_tar.extractall()\n",
        "my_tar.close()"
      ],
      "execution_count": 0,
      "outputs": []
    },
    {
      "cell_type": "code",
      "metadata": {
        "id": "roPYdkV865TO",
        "colab_type": "code",
        "outputId": "8c2fbe91-d95a-44fc-db6d-d5495096e1cc",
        "colab": {
          "base_uri": "https://localhost:8080/",
          "height": 34
        }
      },
      "source": [
        "import urllib.request\n",
        "urllib.request.urlretrieve('https://lear.inrialpes.fr/~jegou/code/eval_holidays.tgz', 'eval_holidays.tgz')"
      ],
      "execution_count": 5,
      "outputs": [
        {
          "output_type": "execute_result",
          "data": {
            "text/plain": [
              "('eval_holidays.tgz', <http.client.HTTPMessage at 0x7fa36f3e1e10>)"
            ]
          },
          "metadata": {
            "tags": []
          },
          "execution_count": 5
        }
      ]
    },
    {
      "cell_type": "code",
      "metadata": {
        "id": "7FZT2qbp7A8s",
        "colab_type": "code",
        "colab": {}
      },
      "source": [
        "my_tar = tarfile.open('eval_holidays.tgz')\n",
        "my_tar.extractall()\n",
        "my_tar.close()"
      ],
      "execution_count": 0,
      "outputs": []
    },
    {
      "cell_type": "code",
      "metadata": {
        "id": "I2tnIY5I7Jgw",
        "colab_type": "code",
        "colab": {}
      },
      "source": [
        "PATH = '/content/jpg'\n",
        "PATH_EVAL = '/content/eval_holidays'"
      ],
      "execution_count": 0,
      "outputs": []
    },
    {
      "cell_type": "markdown",
      "metadata": {
        "id": "gjLQG3oD7QoT",
        "colab_type": "text"
      },
      "source": [
        "# Extract features"
      ]
    },
    {
      "cell_type": "code",
      "metadata": {
        "id": "1GgQI3Jv7P-8",
        "colab_type": "code",
        "colab": {}
      },
      "source": [
        "from tqdm import tqdm\n",
        "from torchvision.datasets.folder import default_loader\n",
        "from torch import nn\n",
        "import torchvision.models as models\n",
        "import torchvision.transforms as transforms\n",
        "import torch\n",
        "import numpy as np\n",
        "import h5py\n",
        "import sys\n",
        "import logging\n",
        "import json\n",
        "from PIL import Image\n",
        "import shutil\n",
        "import os\n",
        "from datetime import datetime\n",
        "FJoin = os.path.join"
      ],
      "execution_count": 0,
      "outputs": []
    },
    {
      "cell_type": "code",
      "metadata": {
        "id": "l01f7fMk7aXi",
        "colab_type": "code",
        "colab": {}
      },
      "source": [
        "def load_model(name, weight=None):\n",
        "    model = models.__dict__[name](pretrained=True)\n",
        "    model = nn.Sequential(*list(model.children())[:-1])\n",
        "    model.eval()\n",
        "    return model\n",
        "\n",
        "\n",
        "class ListDataset(torch.utils.data.Dataset):\n",
        "\n",
        "    def __init__(self,\n",
        "                 images_list,\n",
        "                 transform=None,\n",
        "                 loader=default_loader):\n",
        "        self.images_list = images_list\n",
        "        self.loader = loader\n",
        "        self.transform = transform\n",
        "\n",
        "    def __getitem__(self, index):\n",
        "        image_path = self.images_list[index]\n",
        "        image = self.loader(image_path)\n",
        "        if self.transform is not None:\n",
        "            image = self.transform(image)\n",
        "        return image, image_path\n",
        "\n",
        "    def __len__(self):\n",
        "        return len(self.images_list)\n",
        "\n",
        "\n",
        "class FeatureExtraction:\n",
        "    \"\"\"\n",
        "    Extract features from images.\n",
        "    \"\"\"\n",
        "\n",
        "    def __init__(self,model):\n",
        "        self.model = model\n",
        "\n",
        "    def _set_logging(self, logging_filepath):\n",
        "        \"\"\"Setup logger to log to file and stdout.\"\"\"\n",
        "        log_format = '%(asctime)s.%(msecs).03d: %(message)s'\n",
        "        date_format = '%H:%M:%S'\n",
        "\n",
        "        root_logger = logging.getLogger()\n",
        "        root_logger.setLevel(logging.INFO)\n",
        "\n",
        "        file_handler = logging.FileHandler(logging_filepath)\n",
        "        file_handler.setFormatter(\n",
        "            logging.Formatter(log_format, datefmt=date_format))\n",
        "        root_logger.addHandler(file_handler)\n",
        "\n",
        "        console_handler = logging.StreamHandler()\n",
        "        console_handler.setFormatter(\n",
        "            logging.Formatter(log_format, datefmt=date_format))\n",
        "        root_logger.addHandler(console_handler)\n",
        "\n",
        "        logging.info('Writing log file to %s', logging_filepath)\n",
        "\n",
        "    def extract_features_to_disk(\n",
        "            self,\n",
        "            image_paths,\n",
        "            output_hdf5,\n",
        "            batch_size=10,\n",
        "            workers=4,\n",
        "            output_log=None):\n",
        "        \"\"\"\n",
        "        Extract a specific list of images and save as HDF5 file\n",
        "\n",
        "        Parameters\n",
        "        ----------\n",
        "        image_paths : list\n",
        "            List image path.\n",
        "        output_hdf5 : str\n",
        "            Output features as HDF5 to this location.\n",
        "        batch_size : int\n",
        "            the number of samples that will be propagated through the network (default: 10).\n",
        "        workers : int\n",
        "            number of data loading workers (default: 4).\n",
        "        output_log : str\n",
        "            Output log file. Default: output_hdf5 + \".log\" (default: None).\n",
        "        \"\"\"\n",
        "\n",
        "        if output_log is None:\n",
        "            output_log = output_hdf5 + '.log'\n",
        "        self._set_logging(output_log)\n",
        "        device = torch.device(\"cuda:0\" if torch.cuda.is_available() else \"cpu\")\n",
        "        model = self.model.to(device)\n",
        "        # Data loading code\n",
        "        normalize = transforms.Normalize(\n",
        "            mean=[0.485, 0.456, 0.406], std=[0.229, 0.224, 0.225])\n",
        "        dataset = ListDataset(image_paths,\n",
        "                              transforms.Compose([\n",
        "                                  transforms.Resize(256),\n",
        "                                  transforms.CenterCrop(224),\n",
        "                                  transforms.ToTensor(),\n",
        "                                  normalize,\n",
        "                              ]))\n",
        "        loader = torch.utils.data.DataLoader(\n",
        "            dataset,\n",
        "            batch_size=batch_size,\n",
        "            shuffle=False,\n",
        "            num_workers=workers,\n",
        "            pin_memory=True)\n",
        "        features = {}\n",
        "        device = torch.device(\"cuda:0\" if torch.cuda.is_available() else \"cpu\")\n",
        "        with torch.no_grad():\n",
        "            for i, (input_data, paths) in enumerate(tqdm(loader)):\n",
        "                input_var = torch.autograd.Variable(input_data).to(device)\n",
        "                current_features = model(input_var).data.cpu().numpy()\n",
        "                for j, image_path in enumerate(paths):\n",
        "                    features[image_path] = current_features[j].reshape(-1, )\n",
        "\n",
        "        feature_shape = features[list(features.keys())[0]].shape\n",
        "        logging.info('Feature shape: %s' % (feature_shape,))\n",
        "        logging.info('Outputting features')\n",
        "\n",
        "        if sys.version_info >= (3, 0):\n",
        "            string_type = h5py.special_dtype(vlen=str)\n",
        "        else:\n",
        "            string_type = h5py.special_dtype(vlen=unicode)  # noqa\n",
        "        paths = features.keys()\n",
        "        logging.info('Stacking features')\n",
        "        features_stacked = np.vstack([features[path] for path in paths])\n",
        "        logging.info('Output feature size: %s' % (features_stacked.shape,))\n",
        "        with h5py.File(output_hdf5, 'a') as f:\n",
        "            f.create_dataset('features', data=features_stacked)\n",
        "            f.create_dataset(\n",
        "                'path_images',\n",
        "                (len(paths),),\n",
        "                dtype=string_type)\n",
        "            # For some reason, assigning the list directly causes an error, so we\n",
        "            # assign it in a loop.\n",
        "            for i, image_path in enumerate(paths):\n",
        "                # f['image_names'][i] = image_path_to_name(image_path)\n",
        "                f['path_images'][i] = image_path\n",
        "\n",
        "    def extract_image(self, img):\n",
        "        \"\"\"\n",
        "        Extract vector features of an image.\n",
        "        \"\"\"\n",
        "        normalize = transforms.Normalize(\n",
        "            mean=[0.485, 0.456, 0.406], std=[0.229, 0.224, 0.225])\n",
        "        transform = transforms.Compose([\n",
        "            transforms.Resize(256),\n",
        "            transforms.CenterCrop(224),\n",
        "            transforms.ToTensor(),\n",
        "            normalize,\n",
        "        ])\n",
        "        # print(path)\n",
        "        # img = Image.open(path).convert('RGB')\n",
        "        device = torch.device(\"cuda:0\" if torch.cuda.is_available() else \"cpu\")\n",
        "        model = self.model.to(device)\n",
        "        image = transform(img).unsqueeze(0).to(device)\n",
        "        feature = model(image).data.cpu().numpy().reshape(-1, )\n",
        "        return feature"
      ],
      "execution_count": 0,
      "outputs": []
    },
    {
      "cell_type": "code",
      "metadata": {
        "id": "HhUSYeo_7eX4",
        "colab_type": "code",
        "colab": {}
      },
      "source": [
        "class ImageList:\n",
        "    \"\"\"\n",
        "    Get the list of image files and check them in the directory directory\n",
        "    \"\"\"\n",
        "\n",
        "    def check_list_image(self, list_images):\n",
        "        \"\"\"\n",
        "        Check a list of image files, if the image fails then move it to the error_image directory.\n",
        "        \"\"\"\n",
        "        if not os.path.exists('error_image'):\n",
        "            os.makedirs('error_image')\n",
        "        for p in list_images:\n",
        "            try:\n",
        "                Image.open(p)\n",
        "            except IOError:\n",
        "                path_err = 'error_image'\n",
        "                shutil.move(p, path_err)\n",
        "                print(\"file {} error.\".format(p))\n",
        "\n",
        "    def get_list_image(self, path):\n",
        "        \"\"\"\n",
        "        Get a list of image files in a directory.\n",
        "        \"\"\"\n",
        "        file_list = []\n",
        "        for dir, subdirs, files in os.walk(path):\n",
        "            file_list.extend([FJoin(dir, f) for f in files])\n",
        "        file_list = filter(lambda x: not os.path.islink(x), file_list)\n",
        "        self.check_list_image(file_list)\n",
        "        file_list, dir_list = [], []\n",
        "        for dir, subdirs, files in os.walk(path):\n",
        "            file_list.extend([FJoin(dir, f) for f in files])\n",
        "            dir_list.extend([FJoin(dir, d) for d in subdirs])\n",
        "        file_list = filter(lambda x: not os.path.islink(x), file_list)\n",
        "        dir_list = filter(lambda x: not os.path.islink(x), dir_list)\n",
        "        return list(file_list), list(dir_list)\n",
        "\n",
        "def load_features(feature_name):\n",
        "        \"\"\"\n",
        "        Read features, path_images from HDF5 file.\n",
        "        \"\"\"\n",
        "        f = h5py.File(feature_name, 'r')\n",
        "        features = f['features'][:]\n",
        "        # print(features.shape)\n",
        "        path_images = f['path_images']\n",
        "        path_images = list(path_images)\n",
        "        # print(len(path_images))\n",
        "        return features, path_images"
      ],
      "execution_count": 0,
      "outputs": []
    },
    {
      "cell_type": "code",
      "metadata": {
        "id": "VJczSmaw7g_m",
        "colab_type": "code",
        "outputId": "278368cc-1d11-474d-d7d4-7dbd43228f5c",
        "colab": {
          "base_uri": "https://localhost:8080/",
          "height": 222,
          "referenced_widgets": [
            "da3db81a4333468ea5575941c2d3c563",
            "37b1d3fac4b746339eac72a173576205",
            "61ac668ed131459ca3d082fac7279582",
            "c2148e939d6d44a0b37c698d7aa73f89",
            "a199e9e5bb184c38bebd795b95e20f6d",
            "af921d3de0664f439cc51cce5fa10f1a",
            "a2c3b5c14d404c3c85e8ccdb63131e4a",
            "e2b764039cfb4dd8947eb513a66cb77f"
          ]
        }
      },
      "source": [
        "data = ImageList()\n",
        "images,_ = data.get_list_image('/content/jpg')\n",
        "print(images)\n",
        "model = load_model('resnet50')\n",
        "extract = FeatureExtraction(model)\n",
        "extract.extract_features_to_disk(images,'feature.h5')"
      ],
      "execution_count": 11,
      "outputs": [
        {
          "output_type": "stream",
          "text": [
            "['/content/jpg/138902.jpg', '/content/jpg/141001.jpg', '/content/jpg/127500.jpg', '/content/jpg/142201.jpg', '/content/jpg/135502.jpg', '/content/jpg/128000.jpg', '/content/jpg/126200.jpg', '/content/jpg/142101.jpg', '/content/jpg/136300.jpg', '/content/jpg/125800.jpg', '/content/jpg/134603.jpg', '/content/jpg/128400.jpg', '/content/jpg/129300.jpg', '/content/jpg/126102.jpg', '/content/jpg/109300.jpg', '/content/jpg/106602.jpg', '/content/jpg/141703.jpg', '/content/jpg/104600.jpg', '/content/jpg/122500.jpg', '/content/jpg/144903.jpg', '/content/jpg/111001.jpg', '/content/jpg/149701.jpg', '/content/jpg/139300.jpg', '/content/jpg/106900.jpg', '/content/jpg/127403.jpg', '/content/jpg/109101.jpg', '/content/jpg/147400.jpg', '/content/jpg/134001.jpg', '/content/jpg/136005.jpg', '/content/jpg/141303.jpg', '/content/jpg/126805.jpg', '/content/jpg/136004.jpg', '/content/jpg/103304.jpg', '/content/jpg/132510.jpg', '/content/jpg/110701.jpg', '/content/jpg/100503.jpg', '/content/jpg/136007.jpg', '/content/jpg/101700.jpg', '/content/jpg/131501.jpg', '/content/jpg/139203.jpg', '/content/jpg/140000.jpg', '/content/jpg/138306.jpg', '/content/jpg/126300.jpg', '/content/jpg/111601.jpg', '/content/jpg/111301.jpg', '/content/jpg/135100.jpg', '/content/jpg/144900.jpg', '/content/jpg/115401.jpg', '/content/jpg/102402.jpg', '/content/jpg/126902.jpg', '/content/jpg/101900.jpg', '/content/jpg/137100.jpg', '/content/jpg/122001.jpg', '/content/jpg/104502.jpg', '/content/jpg/108201.jpg', '/content/jpg/101404.jpg', '/content/jpg/119800.jpg', '/content/jpg/110001.jpg', '/content/jpg/148101.jpg', '/content/jpg/119801.jpg', '/content/jpg/138502.jpg', '/content/jpg/108802.jpg', '/content/jpg/125702.jpg', '/content/jpg/145102.jpg', '/content/jpg/106000.jpg', '/content/jpg/116803.jpg', '/content/jpg/123200.jpg', '/content/jpg/135104.jpg', '/content/jpg/114702.jpg', '/content/jpg/146001.jpg', '/content/jpg/108103.jpg', '/content/jpg/113100.jpg', '/content/jpg/100400.jpg', '/content/jpg/145900.jpg', '/content/jpg/141901.jpg', '/content/jpg/144000.jpg', '/content/jpg/130601.jpg', '/content/jpg/123801.jpg', '/content/jpg/100301.jpg', '/content/jpg/125500.jpg', '/content/jpg/118100.jpg', '/content/jpg/132501.jpg', '/content/jpg/136101.jpg', '/content/jpg/127600.jpg', '/content/jpg/139503.jpg', '/content/jpg/111700.jpg', '/content/jpg/143300.jpg', '/content/jpg/123402.jpg', '/content/jpg/138601.jpg', '/content/jpg/146206.jpg', '/content/jpg/133401.jpg', '/content/jpg/143601.jpg', '/content/jpg/101600.jpg', '/content/jpg/104601.jpg', '/content/jpg/110300.jpg', '/content/jpg/140803.jpg', '/content/jpg/138100.jpg', '/content/jpg/143801.jpg', '/content/jpg/125102.jpg', '/content/jpg/101201.jpg', '/content/jpg/108902.jpg', '/content/jpg/121404.jpg', '/content/jpg/147201.jpg', '/content/jpg/129200.jpg', '/content/jpg/106100.jpg', '/content/jpg/136903.jpg', '/content/jpg/141600.jpg', '/content/jpg/128101.jpg', '/content/jpg/143701.jpg', '/content/jpg/111900.jpg', '/content/jpg/126701.jpg', '/content/jpg/100701.jpg', '/content/jpg/116300.jpg', '/content/jpg/122701.jpg', '/content/jpg/128501.jpg', '/content/jpg/149101.jpg', '/content/jpg/111501.jpg', '/content/jpg/145502.jpg', '/content/jpg/110601.jpg', '/content/jpg/123205.jpg', '/content/jpg/111002.jpg', '/content/jpg/142100.jpg', '/content/jpg/129001.jpg', '/content/jpg/114501.jpg', '/content/jpg/114100.jpg', '/content/jpg/138004.jpg', '/content/jpg/104700.jpg', '/content/jpg/101300.jpg', '/content/jpg/108200.jpg', '/content/jpg/138401.jpg', '/content/jpg/134501.jpg', '/content/jpg/107702.jpg', '/content/jpg/128502.jpg', '/content/jpg/143100.jpg', '/content/jpg/149600.jpg', '/content/jpg/113000.jpg', '/content/jpg/116400.jpg', '/content/jpg/142701.jpg', '/content/jpg/112000.jpg', '/content/jpg/132000.jpg', '/content/jpg/134201.jpg', '/content/jpg/127000.jpg', '/content/jpg/134605.jpg', '/content/jpg/135002.jpg', '/content/jpg/136010.jpg', '/content/jpg/112401.jpg', '/content/jpg/112406.jpg', '/content/jpg/141900.jpg', '/content/jpg/132303.jpg', '/content/jpg/128800.jpg', '/content/jpg/146700.jpg', '/content/jpg/113404.jpg', '/content/jpg/122402.jpg', '/content/jpg/132511.jpg', '/content/jpg/135101.jpg', '/content/jpg/137301.jpg', '/content/jpg/146900.jpg', '/content/jpg/125701.jpg', '/content/jpg/144702.jpg', '/content/jpg/132302.jpg', '/content/jpg/118400.jpg', '/content/jpg/122706.jpg', '/content/jpg/101801.jpg', '/content/jpg/111100.jpg', '/content/jpg/121700.jpg', '/content/jpg/129101.jpg', '/content/jpg/135402.jpg', '/content/jpg/118003.jpg', '/content/jpg/145901.jpg', '/content/jpg/137901.jpg', '/content/jpg/115301.jpg', '/content/jpg/126900.jpg', '/content/jpg/123401.jpg', '/content/jpg/141000.jpg', '/content/jpg/142003.jpg', '/content/jpg/134804.jpg', '/content/jpg/106200.jpg', '/content/jpg/119001.jpg', '/content/jpg/119000.jpg', '/content/jpg/108601.jpg', '/content/jpg/148501.jpg', '/content/jpg/139401.jpg', '/content/jpg/131701.jpg', '/content/jpg/143901.jpg', '/content/jpg/122707.jpg', '/content/jpg/142901.jpg', '/content/jpg/100300.jpg', '/content/jpg/131301.jpg', '/content/jpg/117201.jpg', '/content/jpg/105101.jpg', '/content/jpg/145800.jpg', '/content/jpg/141202.jpg', '/content/jpg/137900.jpg', '/content/jpg/136901.jpg', '/content/jpg/106605.jpg', '/content/jpg/131400.jpg', '/content/jpg/122202.jpg', '/content/jpg/119603.jpg', '/content/jpg/107201.jpg', '/content/jpg/128600.jpg', '/content/jpg/105501.jpg', '/content/jpg/113101.jpg', '/content/jpg/109500.jpg', '/content/jpg/114601.jpg', '/content/jpg/102901.jpg', '/content/jpg/126201.jpg', '/content/jpg/139600.jpg', '/content/jpg/143600.jpg', '/content/jpg/107501.jpg', '/content/jpg/100200.jpg', '/content/jpg/145600.jpg', '/content/jpg/138105.jpg', '/content/jpg/124801.jpg', '/content/jpg/138903.jpg', '/content/jpg/132700.jpg', '/content/jpg/113403.jpg', '/content/jpg/141702.jpg', '/content/jpg/138008.jpg', '/content/jpg/125301.jpg', '/content/jpg/104203.jpg', '/content/jpg/104800.jpg', '/content/jpg/116201.jpg', '/content/jpg/123404.jpg', '/content/jpg/117900.jpg', '/content/jpg/124500.jpg', '/content/jpg/129802.jpg', '/content/jpg/136003.jpg', '/content/jpg/139505.jpg', '/content/jpg/119202.jpg', '/content/jpg/137701.jpg', '/content/jpg/122703.jpg', '/content/jpg/105102.jpg', '/content/jpg/147602.jpg', '/content/jpg/100801.jpg', '/content/jpg/123201.jpg', '/content/jpg/136103.jpg', '/content/jpg/125802.jpg', '/content/jpg/149601.jpg', '/content/jpg/106702.jpg', '/content/jpg/113001.jpg', '/content/jpg/106201.jpg', '/content/jpg/139303.jpg', '/content/jpg/112800.jpg', '/content/jpg/144804.jpg', '/content/jpg/118500.jpg', '/content/jpg/107200.jpg', '/content/jpg/100000.jpg', '/content/jpg/116702.jpg', '/content/jpg/105401.jpg', '/content/jpg/108701.jpg', '/content/jpg/118800.jpg', '/content/jpg/108700.jpg', '/content/jpg/141301.jpg', '/content/jpg/136400.jpg', '/content/jpg/101502.jpg', '/content/jpg/146002.jpg', '/content/jpg/101403.jpg', '/content/jpg/139005.jpg', '/content/jpg/110101.jpg', '/content/jpg/100501.jpg', '/content/jpg/123403.jpg', '/content/jpg/100100.jpg', '/content/jpg/113200.jpg', '/content/jpg/136601.jpg', '/content/jpg/124900.jpg', '/content/jpg/120301.jpg', '/content/jpg/128300.jpg', '/content/jpg/148800.jpg', '/content/jpg/112700.jpg', '/content/jpg/105802.jpg', '/content/jpg/138802.jpg', '/content/jpg/120700.jpg', '/content/jpg/107801.jpg', '/content/jpg/139101.jpg', '/content/jpg/112301.jpg', '/content/jpg/115300.jpg', '/content/jpg/137702.jpg', '/content/jpg/147303.jpg', '/content/jpg/112300.jpg', '/content/jpg/103800.jpg', '/content/jpg/123500.jpg', '/content/jpg/112408.jpg', '/content/jpg/126502.jpg', '/content/jpg/136001.jpg', '/content/jpg/112101.jpg', '/content/jpg/101701.jpg', '/content/jpg/102802.jpg', '/content/jpg/143904.jpg', '/content/jpg/144201.jpg', '/content/jpg/101503.jpg', '/content/jpg/145501.jpg', '/content/jpg/144104.jpg', '/content/jpg/129201.jpg', '/content/jpg/106800.jpg', '/content/jpg/100901.jpg', '/content/jpg/101702.jpg', '/content/jpg/140101.jpg', '/content/jpg/143401.jpg', '/content/jpg/144200.jpg', '/content/jpg/140100.jpg', '/content/jpg/102200.jpg', '/content/jpg/147802.jpg', '/content/jpg/121901.jpg', '/content/jpg/117701.jpg', '/content/jpg/103901.jpg', '/content/jpg/139500.jpg', '/content/jpg/115100.jpg', '/content/jpg/130001.jpg', '/content/jpg/137103.jpg', '/content/jpg/131901.jpg', '/content/jpg/117300.jpg', '/content/jpg/105104.jpg', '/content/jpg/112001.jpg', '/content/jpg/107901.jpg', '/content/jpg/136702.jpg', '/content/jpg/147200.jpg', '/content/jpg/136803.jpg', '/content/jpg/148001.jpg', '/content/jpg/127602.jpg', '/content/jpg/120600.jpg', '/content/jpg/138005.jpg', '/content/jpg/124501.jpg', '/content/jpg/122504.jpg', '/content/jpg/118303.jpg', '/content/jpg/117901.jpg', '/content/jpg/102202.jpg', '/content/jpg/117000.jpg', '/content/jpg/102100.jpg', '/content/jpg/106500.jpg', '/content/jpg/126803.jpg', '/content/jpg/131001.jpg', '/content/jpg/102601.jpg', '/content/jpg/103801.jpg', '/content/jpg/110200.jpg', '/content/jpg/115601.jpg', '/content/jpg/104005.jpg', '/content/jpg/138202.jpg', '/content/jpg/146502.jpg', '/content/jpg/108500.jpg', '/content/jpg/122401.jpg', '/content/jpg/107301.jpg', '/content/jpg/113901.jpg', '/content/jpg/127001.jpg', '/content/jpg/146500.jpg', '/content/jpg/149301.jpg', '/content/jpg/113801.jpg', '/content/jpg/120100.jpg', '/content/jpg/107401.jpg', '/content/jpg/119901.jpg', '/content/jpg/130303.jpg', '/content/jpg/126801.jpg', '/content/jpg/147600.jpg', '/content/jpg/138702.jpg', '/content/jpg/132200.jpg', '/content/jpg/119702.jpg', '/content/jpg/117001.jpg', '/content/jpg/148301.jpg', '/content/jpg/116301.jpg', '/content/jpg/138503.jpg', '/content/jpg/103501.jpg', '/content/jpg/127200.jpg', '/content/jpg/105000.jpg', '/content/jpg/129800.jpg', '/content/jpg/125901.jpg', '/content/jpg/119201.jpg', '/content/jpg/143301.jpg', '/content/jpg/134702.jpg', '/content/jpg/143501.jpg', '/content/jpg/138103.jpg', '/content/jpg/128201.jpg', '/content/jpg/144902.jpg', '/content/jpg/126804.jpg', '/content/jpg/133800.jpg', '/content/jpg/111200.jpg', '/content/jpg/138904.jpg', '/content/jpg/103902.jpg', '/content/jpg/149001.jpg', '/content/jpg/135702.jpg', '/content/jpg/133501.jpg', '/content/jpg/105300.jpg', '/content/jpg/123602.jpg', '/content/jpg/106603.jpg', '/content/jpg/148901.jpg', '/content/jpg/137200.jpg', '/content/jpg/105001.jpg', '/content/jpg/138307.jpg', '/content/jpg/108801.jpg', '/content/jpg/100600.jpg', '/content/jpg/132509.jpg', '/content/jpg/136009.jpg', '/content/jpg/149603.jpg', '/content/jpg/131700.jpg', '/content/jpg/146701.jpg', '/content/jpg/131300.jpg', '/content/jpg/130201.jpg', '/content/jpg/108001.jpg', '/content/jpg/123202.jpg', '/content/jpg/120501.jpg', '/content/jpg/127502.jpg', '/content/jpg/138011.jpg', '/content/jpg/127402.jpg', '/content/jpg/103202.jpg', '/content/jpg/121402.jpg', '/content/jpg/119500.jpg', '/content/jpg/141704.jpg', '/content/jpg/134504.jpg', '/content/jpg/101200.jpg', '/content/jpg/142401.jpg', '/content/jpg/149000.jpg', '/content/jpg/147800.jpg', '/content/jpg/117302.jpg', '/content/jpg/104004.jpg', '/content/jpg/110800.jpg', '/content/jpg/118701.jpg', '/content/jpg/109000.jpg', '/content/jpg/144901.jpg', '/content/jpg/106402.jpg', '/content/jpg/123400.jpg', '/content/jpg/123100.jpg', '/content/jpg/130501.jpg', '/content/jpg/147102.jpg', '/content/jpg/149200.jpg', '/content/jpg/136102.jpg', '/content/jpg/139402.jpg', '/content/jpg/143803.jpg', '/content/jpg/139700.jpg', '/content/jpg/110401.jpg', '/content/jpg/138203.jpg', '/content/jpg/144801.jpg', '/content/jpg/126808.jpg', '/content/jpg/140201.jpg', '/content/jpg/128801.jpg', '/content/jpg/118001.jpg', '/content/jpg/116402.jpg', '/content/jpg/148603.jpg', '/content/jpg/134602.jpg', '/content/jpg/124401.jpg', '/content/jpg/147501.jpg', '/content/jpg/141302.jpg', '/content/jpg/114200.jpg', '/content/jpg/104101.jpg', '/content/jpg/146800.jpg', '/content/jpg/101101.jpg', '/content/jpg/137000.jpg', '/content/jpg/122708.jpg', '/content/jpg/118900.jpg', '/content/jpg/117101.jpg', '/content/jpg/109800.jpg', '/content/jpg/116700.jpg', '/content/jpg/138507.jpg', '/content/jpg/100900.jpg', '/content/jpg/141500.jpg', '/content/jpg/108102.jpg', '/content/jpg/124601.jpg', '/content/jpg/132100.jpg', '/content/jpg/136902.jpg', '/content/jpg/109201.jpg', '/content/jpg/112002.jpg', '/content/jpg/145202.jpg', '/content/jpg/133000.jpg', '/content/jpg/100601.jpg', '/content/jpg/138201.jpg', '/content/jpg/110201.jpg', '/content/jpg/140600.jpg', '/content/jpg/107600.jpg', '/content/jpg/138600.jpg', '/content/jpg/121200.jpg', '/content/jpg/131802.jpg', '/content/jpg/127202.jpg', '/content/jpg/140500.jpg', '/content/jpg/102500.jpg', '/content/jpg/108101.jpg', '/content/jpg/120701.jpg', '/content/jpg/134801.jpg', '/content/jpg/146303.jpg', '/content/jpg/102301.jpg', '/content/jpg/141701.jpg', '/content/jpg/130302.jpg', '/content/jpg/139202.jpg', '/content/jpg/106001.jpg', '/content/jpg/148002.jpg', '/content/jpg/144302.jpg', '/content/jpg/104801.jpg', '/content/jpg/148701.jpg', '/content/jpg/136704.jpg', '/content/jpg/113700.jpg', '/content/jpg/144001.jpg', '/content/jpg/137503.jpg', '/content/jpg/114902.jpg', '/content/jpg/120800.jpg', '/content/jpg/135103.jpg', '/content/jpg/126500.jpg', '/content/jpg/143802.jpg', '/content/jpg/138301.jpg', '/content/jpg/131201.jpg', '/content/jpg/123700.jpg', '/content/jpg/133200.jpg', '/content/jpg/149302.jpg', '/content/jpg/138001.jpg', '/content/jpg/138501.jpg', '/content/jpg/107500.jpg', '/content/jpg/131803.jpg', '/content/jpg/147001.jpg', '/content/jpg/146203.jpg', '/content/jpg/129601.jpg', '/content/jpg/112403.jpg', '/content/jpg/116501.jpg', '/content/jpg/114201.jpg', '/content/jpg/111801.jpg', '/content/jpg/127201.jpg', '/content/jpg/101402.jpg', '/content/jpg/138012.jpg', '/content/jpg/136804.jpg', '/content/jpg/122100.jpg', '/content/jpg/125600.jpg', '/content/jpg/146600.jpg', '/content/jpg/126000.jpg', '/content/jpg/139302.jpg', '/content/jpg/135901.jpg', '/content/jpg/145101.jpg', '/content/jpg/132600.jpg', '/content/jpg/129801.jpg', '/content/jpg/110501.jpg', '/content/jpg/109001.jpg', '/content/jpg/137703.jpg', '/content/jpg/133901.jpg', '/content/jpg/147101.jpg', '/content/jpg/105801.jpg', '/content/jpg/103101.jpg', '/content/jpg/104400.jpg', '/content/jpg/131102.jpg', '/content/jpg/125400.jpg', '/content/jpg/116703.jpg', '/content/jpg/123901.jpg', '/content/jpg/126501.jpg', '/content/jpg/118300.jpg', '/content/jpg/139000.jpg', '/content/jpg/127100.jpg', '/content/jpg/109401.jpg', '/content/jpg/127802.jpg', '/content/jpg/104901.jpg', '/content/jpg/134604.jpg', '/content/jpg/144802.jpg', '/content/jpg/131101.jpg', '/content/jpg/144300.jpg', '/content/jpg/139003.jpg', '/content/jpg/144500.jpg', '/content/jpg/132300.jpg', '/content/jpg/114700.jpg', '/content/jpg/112405.jpg', '/content/jpg/120200.jpg', '/content/jpg/138500.jpg', '/content/jpg/128100.jpg', '/content/jpg/130900.jpg', '/content/jpg/130102.jpg', '/content/jpg/132101.jpg', '/content/jpg/137004.jpg', '/content/jpg/109301.jpg', '/content/jpg/136008.jpg', '/content/jpg/134502.jpg', '/content/jpg/139901.jpg', '/content/jpg/117100.jpg', '/content/jpg/115101.jpg', '/content/jpg/119100.jpg', '/content/jpg/143200.jpg', '/content/jpg/145401.jpg', '/content/jpg/107100.jpg', '/content/jpg/140800.jpg', '/content/jpg/136502.jpg', '/content/jpg/135701.jpg', '/content/jpg/110700.jpg', '/content/jpg/127601.jpg', '/content/jpg/104002.jpg', '/content/jpg/148201.jpg', '/content/jpg/136501.jpg', '/content/jpg/121501.jpg', '/content/jpg/135601.jpg', '/content/jpg/146003.jpg', '/content/jpg/104802.jpg', '/content/jpg/108105.jpg', '/content/jpg/122000.jpg', '/content/jpg/105700.jpg', '/content/jpg/136200.jpg', '/content/jpg/117403.jpg', '/content/jpg/146601.jpg', '/content/jpg/139506.jpg', '/content/jpg/143101.jpg', '/content/jpg/136703.jpg', '/content/jpg/142800.jpg', '/content/jpg/138900.jpg', '/content/jpg/125201.jpg', '/content/jpg/123001.jpg', '/content/jpg/137501.jpg', '/content/jpg/136402.jpg', '/content/jpg/131804.jpg', '/content/jpg/126807.jpg', '/content/jpg/133400.jpg', '/content/jpg/142000.jpg', '/content/jpg/118000.jpg', '/content/jpg/118501.jpg', '/content/jpg/141101.jpg', '/content/jpg/106301.jpg', '/content/jpg/147401.jpg', '/content/jpg/101500.jpg', '/content/jpg/117802.jpg', '/content/jpg/102600.jpg', '/content/jpg/133602.jpg', '/content/jpg/113301.jpg', '/content/jpg/105201.jpg', '/content/jpg/104003.jpg', '/content/jpg/107700.jpg', '/content/jpg/115801.jpg', '/content/jpg/126901.jpg', '/content/jpg/106300.jpg', '/content/jpg/123002.jpg', '/content/jpg/106703.jpg', '/content/jpg/110802.jpg', '/content/jpg/126601.jpg', '/content/jpg/131600.jpg', '/content/jpg/113701.jpg', '/content/jpg/111201.jpg', '/content/jpg/127300.jpg', '/content/jpg/133100.jpg', '/content/jpg/138102.jpg', '/content/jpg/144703.jpg', '/content/jpg/124701.jpg', '/content/jpg/111703.jpg', '/content/jpg/122601.jpg', '/content/jpg/122602.jpg', '/content/jpg/121500.jpg', '/content/jpg/142601.jpg', '/content/jpg/101301.jpg', '/content/jpg/136401.jpg', '/content/jpg/141803.jpg', '/content/jpg/101401.jpg', '/content/jpg/132201.jpg', '/content/jpg/145803.jpg', '/content/jpg/111702.jpg', '/content/jpg/145301.jpg', '/content/jpg/111300.jpg', '/content/jpg/123701.jpg', '/content/jpg/142700.jpg', '/content/jpg/118301.jpg', '/content/jpg/135000.jpg', '/content/jpg/135902.jpg', '/content/jpg/135401.jpg', '/content/jpg/103203.jpg', '/content/jpg/122705.jpg', '/content/jpg/145000.jpg', '/content/jpg/125203.jpg', '/content/jpg/117501.jpg', '/content/jpg/107400.jpg', '/content/jpg/135302.jpg', '/content/jpg/145201.jpg', '/content/jpg/104300.jpg', '/content/jpg/145300.jpg', '/content/jpg/104701.jpg', '/content/jpg/132402.jpg', '/content/jpg/135400.jpg', '/content/jpg/124000.jpg', '/content/jpg/118901.jpg', '/content/jpg/146202.jpg', '/content/jpg/102303.jpg', '/content/jpg/117600.jpg', '/content/jpg/131603.jpg', '/content/jpg/138703.jpg', '/content/jpg/130400.jpg', '/content/jpg/148400.jpg', '/content/jpg/118402.jpg', '/content/jpg/137102.jpg', '/content/jpg/119604.jpg', '/content/jpg/122901.jpg', '/content/jpg/139403.jpg', '/content/jpg/138504.jpg', '/content/jpg/130301.jpg', '/content/jpg/129000.jpg', '/content/jpg/119701.jpg', '/content/jpg/146200.jpg', '/content/jpg/147502.jpg', '/content/jpg/108100.jpg', '/content/jpg/139201.jpg', '/content/jpg/145801.jpg', '/content/jpg/120400.jpg', '/content/jpg/137201.jpg', '/content/jpg/130802.jpg', '/content/jpg/106002.jpg', '/content/jpg/128700.jpg', '/content/jpg/126101.jpg', '/content/jpg/134101.jpg', '/content/jpg/131900.jpg', '/content/jpg/145402.jpg', '/content/jpg/112201.jpg', '/content/jpg/147402.jpg', '/content/jpg/140503.jpg', '/content/jpg/112900.jpg', '/content/jpg/122704.jpg', '/content/jpg/115001.jpg', '/content/jpg/138506.jpg', '/content/jpg/130700.jpg', '/content/jpg/128601.jpg', '/content/jpg/129401.jpg', '/content/jpg/133702.jpg', '/content/jpg/118801.jpg', '/content/jpg/134601.jpg', '/content/jpg/125001.jpg', '/content/jpg/109601.jpg', '/content/jpg/109600.jpg', '/content/jpg/141700.jpg', '/content/jpg/138704.jpg', '/content/jpg/115702.jpg', '/content/jpg/109400.jpg', '/content/jpg/103302.jpg', '/content/jpg/112500.jpg', '/content/jpg/143000.jpg', '/content/jpg/138505.jpg', '/content/jpg/133703.jpg', '/content/jpg/122502.jpg', '/content/jpg/141802.jpg', '/content/jpg/137600.jpg', '/content/jpg/138602.jpg', '/content/jpg/145902.jpg', '/content/jpg/102400.jpg', '/content/jpg/116101.jpg', '/content/jpg/136600.jpg', '/content/jpg/148203.jpg', '/content/jpg/112003.jpg', '/content/jpg/139104.jpg', '/content/jpg/125000.jpg', '/content/jpg/100002.jpg', '/content/jpg/141601.jpg', '/content/jpg/101400.jpg', '/content/jpg/135900.jpg', '/content/jpg/137801.jpg', '/content/jpg/144700.jpg', '/content/jpg/136500.jpg', '/content/jpg/133900.jpg', '/content/jpg/134802.jpg', '/content/jpg/114701.jpg', '/content/jpg/130801.jpg', '/content/jpg/132500.jpg', '/content/jpg/111500.jpg', '/content/jpg/103600.jpg', '/content/jpg/108800.jpg', '/content/jpg/117402.jpg', '/content/jpg/148801.jpg', '/content/jpg/134402.jpg', '/content/jpg/105103.jpg', '/content/jpg/111800.jpg', '/content/jpg/142301.jpg', '/content/jpg/138010.jpg', '/content/jpg/131503.jpg', '/content/jpg/110100.jpg', '/content/jpg/147702.jpg', '/content/jpg/107701.jpg', '/content/jpg/112200.jpg', '/content/jpg/122102.jpg', '/content/jpg/107101.jpg', '/content/jpg/146901.jpg', '/content/jpg/139404.jpg', '/content/jpg/106400.jpg', '/content/jpg/120401.jpg', '/content/jpg/124200.jpg', '/content/jpg/114300.jpg', '/content/jpg/109901.jpg', '/content/jpg/120801.jpg', '/content/jpg/119700.jpg', '/content/jpg/113900.jpg', '/content/jpg/111600.jpg', '/content/jpg/104200.jpg', '/content/jpg/128900.jpg', '/content/jpg/138707.jpg', '/content/jpg/138706.jpg', '/content/jpg/121301.jpg', '/content/jpg/137302.jpg', '/content/jpg/134300.jpg', '/content/jpg/116401.jpg', '/content/jpg/134200.jpg', '/content/jpg/120500.jpg', '/content/jpg/137601.jpg', '/content/jpg/148000.jpg', '/content/jpg/133802.jpg', '/content/jpg/115600.jpg', '/content/jpg/120000.jpg', '/content/jpg/139100.jpg', '/content/jpg/130300.jpg', '/content/jpg/147901.jpg', '/content/jpg/116500.jpg', '/content/jpg/147304.jpg', '/content/jpg/108202.jpg', '/content/jpg/137500.jpg', '/content/jpg/101601.jpg', '/content/jpg/118700.jpg', '/content/jpg/135300.jpg', '/content/jpg/122302.jpg', '/content/jpg/104401.jpg', '/content/jpg/103303.jpg', '/content/jpg/140902.jpg', '/content/jpg/136900.jpg', '/content/jpg/113502.jpg', '/content/jpg/135501.jpg', '/content/jpg/117700.jpg', '/content/jpg/128301.jpg', '/content/jpg/133700.jpg', '/content/jpg/101504.jpg', '/content/jpg/114000.jpg', '/content/jpg/137002.jpg', '/content/jpg/126400.jpg', '/content/jpg/115701.jpg', '/content/jpg/144704.jpg', '/content/jpg/131402.jpg', '/content/jpg/120201.jpg', '/content/jpg/127700.jpg', '/content/jpg/111000.jpg', '/content/jpg/146404.jpg', '/content/jpg/125703.jpg', '/content/jpg/107203.jpg', '/content/jpg/149002.jpg', '/content/jpg/128200.jpg', '/content/jpg/119200.jpg', '/content/jpg/148401.jpg', '/content/jpg/101901.jpg', '/content/jpg/135800.jpg', '/content/jpg/138603.jpg', '/content/jpg/132102.jpg', '/content/jpg/148902.jpg', '/content/jpg/106101.jpg', '/content/jpg/106901.jpg', '/content/jpg/126802.jpg', '/content/jpg/135102.jpg', '/content/jpg/103201.jpg', '/content/jpg/148100.jpg', '/content/jpg/141501.jpg', '/content/jpg/113402.jpg', '/content/jpg/128001.jpg', '/content/jpg/105400.jpg', '/content/jpg/105301.jpg', '/content/jpg/134803.jpg', '/content/jpg/142600.jpg', '/content/jpg/123301.jpg', '/content/jpg/105100.jpg', '/content/jpg/121701.jpg', '/content/jpg/147100.jpg', '/content/jpg/142200.jpg', '/content/jpg/138700.jpg', '/content/jpg/112701.jpg', '/content/jpg/145400.jpg', '/content/jpg/136701.jpg', '/content/jpg/137504.jpg', '/content/jpg/116200.jpg', '/content/jpg/114401.jpg', '/content/jpg/116801.jpg', '/content/jpg/117800.jpg', '/content/jpg/106401.jpg', '/content/jpg/123003.jpg', '/content/jpg/131401.jpg', '/content/jpg/136100.jpg', '/content/jpg/130000.jpg', '/content/jpg/130100.jpg', '/content/jpg/122702.jpg', '/content/jpg/132507.jpg', '/content/jpg/114600.jpg', '/content/jpg/125101.jpg', '/content/jpg/135200.jpg', '/content/jpg/109100.jpg', '/content/jpg/127101.jpg', '/content/jpg/118803.jpg', '/content/jpg/113401.jpg', '/content/jpg/125202.jpg', '/content/jpg/110901.jpg', '/content/jpg/129901.jpg', '/content/jpg/108203.jpg', '/content/jpg/143902.jpg', '/content/jpg/116600.jpg', '/content/jpg/149400.jpg', '/content/jpg/124402.jpg', '/content/jpg/106903.jpg', '/content/jpg/139900.jpg', '/content/jpg/105200.jpg', '/content/jpg/140200.jpg', '/content/jpg/123204.jpg', '/content/jpg/120702.jpg', '/content/jpg/132901.jpg', '/content/jpg/149604.jpg', '/content/jpg/106403.jpg', '/content/jpg/117301.jpg', '/content/jpg/128901.jpg', '/content/jpg/124802.jpg', '/content/jpg/106701.jpg', '/content/jpg/105601.jpg', '/content/jpg/131100.jpg', '/content/jpg/144501.jpg', '/content/jpg/135600.jpg', '/content/jpg/110801.jpg', '/content/jpg/106202.jpg', '/content/jpg/136002.jpg', '/content/jpg/114504.jpg', '/content/jpg/100001.jpg', '/content/jpg/103102.jpg', '/content/jpg/113500.jpg', '/content/jpg/131502.jpg', '/content/jpg/100902.jpg', '/content/jpg/101100.jpg', '/content/jpg/121601.jpg', '/content/jpg/134703.jpg', '/content/jpg/116001.jpg', '/content/jpg/146102.jpg', '/content/jpg/147601.jpg', '/content/jpg/104501.jpg', '/content/jpg/135503.jpg', '/content/jpg/134503.jpg', '/content/jpg/138009.jpg', '/content/jpg/104900.jpg', '/content/jpg/121801.jpg', '/content/jpg/139001.jpg', '/content/jpg/124800.jpg', '/content/jpg/143903.jpg', '/content/jpg/117401.jpg', '/content/jpg/107000.jpg', '/content/jpg/133500.jpg', '/content/jpg/137006.jpg', '/content/jpg/116701.jpg', '/content/jpg/107202.jpg', '/content/jpg/127401.jpg', '/content/jpg/129202.jpg', '/content/jpg/112302.jpg', '/content/jpg/129500.jpg', '/content/jpg/133300.jpg', '/content/jpg/138905.jpg', '/content/jpg/133601.jpg', '/content/jpg/110600.jpg', '/content/jpg/143001.jpg', '/content/jpg/104500.jpg', '/content/jpg/125300.jpg', '/content/jpg/114900.jpg', '/content/jpg/149800.jpg', '/content/jpg/106601.jpg', '/content/jpg/149900.jpg', '/content/jpg/114800.jpg', '/content/jpg/138003.jpg', '/content/jpg/117801.jpg', '/content/jpg/106600.jpg', '/content/jpg/112501.jpg', '/content/jpg/139102.jpg', '/content/jpg/133301.jpg', '/content/jpg/108104.jpg', '/content/jpg/127801.jpg', '/content/jpg/146301.jpg', '/content/jpg/127901.jpg', '/content/jpg/139501.jpg', '/content/jpg/130101.jpg', '/content/jpg/144601.jpg', '/content/jpg/112801.jpg', '/content/jpg/103400.jpg', '/content/jpg/109200.jpg', '/content/jpg/104100.jpg', '/content/jpg/136707.jpg', '/content/jpg/135703.jpg', '/content/jpg/140601.jpg', '/content/jpg/140700.jpg', '/content/jpg/103900.jpg', '/content/jpg/138000.jpg', '/content/jpg/124400.jpg', '/content/jpg/103702.jpg', '/content/jpg/124901.jpg', '/content/jpg/139301.jpg', '/content/jpg/149501.jpg', '/content/jpg/136503.jpg', '/content/jpg/101501.jpg', '/content/jpg/115602.jpg', '/content/jpg/143700.jpg', '/content/jpg/143400.jpg', '/content/jpg/114703.jpg', '/content/jpg/120001.jpg', '/content/jpg/100700.jpg', '/content/jpg/131805.jpg', '/content/jpg/123600.jpg', '/content/jpg/111701.jpg', '/content/jpg/106700.jpg', '/content/jpg/118202.jpg', '/content/jpg/104001.jpg', '/content/jpg/129400.jpg', '/content/jpg/146207.jpg', '/content/jpg/110500.jpg', '/content/jpg/126100.jpg', '/content/jpg/137800.jpg', '/content/jpg/136203.jpg', '/content/jpg/142400.jpg', '/content/jpg/101001.jpg', '/content/jpg/138006.jpg', '/content/jpg/132508.jpg', '/content/jpg/119601.jpg', '/content/jpg/132502.jpg', '/content/jpg/108300.jpg', '/content/jpg/135003.jpg', '/content/jpg/138705.jpg', '/content/jpg/146402.jpg', '/content/jpg/115902.jpg', '/content/jpg/145601.jpg', '/content/jpg/106501.jpg', '/content/jpg/122201.jpg', '/content/jpg/115400.jpg', '/content/jpg/122200.jpg', '/content/jpg/126702.jpg', '/content/jpg/124301.jpg', '/content/jpg/149102.jpg', '/content/jpg/146000.jpg', '/content/jpg/140801.jpg', '/content/jpg/116601.jpg', '/content/jpg/133201.jpg', '/content/jpg/130500.jpg', '/content/jpg/112402.jpg', '/content/jpg/146403.jpg', '/content/jpg/127400.jpg', '/content/jpg/136201.jpg', '/content/jpg/142004.jpg', '/content/jpg/110400.jpg', '/content/jpg/129501.jpg', '/content/jpg/138007.jpg', '/content/jpg/117500.jpg', '/content/jpg/134401.jpg', '/content/jpg/139603.jpg', '/content/jpg/114002.jpg', '/content/jpg/137603.jpg', '/content/jpg/129301.jpg', '/content/jpg/127501.jpg', '/content/jpg/145203.jpg', '/content/jpg/147603.jpg', '/content/jpg/130901.jpg', '/content/jpg/113300.jpg', '/content/jpg/149500.jpg', '/content/jpg/126402.jpg', '/content/jpg/140701.jpg', '/content/jpg/132401.jpg', '/content/jpg/138304.jpg', '/content/jpg/138803.jpg', '/content/jpg/132902.jpg', '/content/jpg/125501.jpg', '/content/jpg/119203.jpg', '/content/jpg/119704.jpg', '/content/jpg/124003.jpg', '/content/jpg/103300.jpg', '/content/jpg/104402.jpg', '/content/jpg/138400.jpg', '/content/jpg/141304.jpg', '/content/jpg/133001.jpg', '/content/jpg/103700.jpg', '/content/jpg/114801.jpg', '/content/jpg/124002.jpg', '/content/jpg/118401.jpg', '/content/jpg/133202.jpg', '/content/jpg/138303.jpg', '/content/jpg/121201.jpg', '/content/jpg/129900.jpg', '/content/jpg/134003.jpg', '/content/jpg/126002.jpg', '/content/jpg/105900.jpg', '/content/jpg/124300.jpg', '/content/jpg/137001.jpg', '/content/jpg/105600.jpg', '/content/jpg/122501.jpg', '/content/jpg/137705.jpg', '/content/jpg/115900.jpg', '/content/jpg/142502.jpg', '/content/jpg/126600.jpg', '/content/jpg/142501.jpg', '/content/jpg/142900.jpg', '/content/jpg/102201.jpg', '/content/jpg/137802.jpg', '/content/jpg/106606.jpg', '/content/jpg/121300.jpg', '/content/jpg/114500.jpg', '/content/jpg/114402.jpg', '/content/jpg/137300.jpg', '/content/jpg/134403.jpg', '/content/jpg/116800.jpg', '/content/jpg/100201.jpg', '/content/jpg/109402.jpg', '/content/jpg/138302.jpg', '/content/jpg/122300.jpg', '/content/jpg/104902.jpg', '/content/jpg/132800.jpg', '/content/jpg/143800.jpg', '/content/jpg/149100.jpg', '/content/jpg/140501.jpg', '/content/jpg/138101.jpg', '/content/jpg/126700.jpg', '/content/jpg/126202.jpg', '/content/jpg/115201.jpg', '/content/jpg/121101.jpg', '/content/jpg/136202.jpg', '/content/jpg/102701.jpg', '/content/jpg/146501.jpg', '/content/jpg/139801.jpg', '/content/jpg/142801.jpg', '/content/jpg/108401.jpg', '/content/jpg/128701.jpg', '/content/jpg/124100.jpg', '/content/jpg/108000.jpg', '/content/jpg/103503.jpg', '/content/jpg/115901.jpg', '/content/jpg/103502.jpg', '/content/jpg/117200.jpg', '/content/jpg/149401.jpg', '/content/jpg/138104.jpg', '/content/jpg/106604.jpg', '/content/jpg/124101.jpg', '/content/jpg/102001.jpg', '/content/jpg/134700.jpg', '/content/jpg/108901.jpg', '/content/jpg/136802.jpg', '/content/jpg/134000.jpg', '/content/jpg/116802.jpg', '/content/jpg/144402.jpg', '/content/jpg/116901.jpg', '/content/jpg/135201.jpg', '/content/jpg/134600.jpg', '/content/jpg/116002.jpg', '/content/jpg/108301.jpg', '/content/jpg/132506.jpg', '/content/jpg/134301.jpg', '/content/jpg/111101.jpg', '/content/jpg/147801.jpg', '/content/jpg/113201.jpg', '/content/jpg/138901.jpg', '/content/jpg/129100.jpg', '/content/jpg/138200.jpg', '/content/jpg/125100.jpg', '/content/jpg/148004.jpg', '/content/jpg/114001.jpg', '/content/jpg/103002.jpg', '/content/jpg/120601.jpg', '/content/jpg/143500.jpg', '/content/jpg/137005.jpg', '/content/jpg/101000.jpg', '/content/jpg/121100.jpg', '/content/jpg/129600.jpg', '/content/jpg/138002.jpg', '/content/jpg/136006.jpg', '/content/jpg/134100.jpg', '/content/jpg/144600.jpg', '/content/jpg/120901.jpg', '/content/jpg/100500.jpg', '/content/jpg/147300.jpg', '/content/jpg/125900.jpg', '/content/jpg/139200.jpg', '/content/jpg/139002.jpg', '/content/jpg/145701.jpg', '/content/jpg/132400.jpg', '/content/jpg/145003.jpg', '/content/jpg/131602.jpg', '/content/jpg/108900.jpg', '/content/jpg/121800.jpg', '/content/jpg/148600.jpg', '/content/jpg/132503.jpg', '/content/jpg/144102.jpg', '/content/jpg/122400.jpg', '/content/jpg/102000.jpg', '/content/jpg/124201.jpg', '/content/jpg/148003.jpg', '/content/jpg/138605.jpg', '/content/jpg/115700.jpg', '/content/jpg/134900.jpg', '/content/jpg/109701.jpg', '/content/jpg/100101.jpg', '/content/jpg/141401.jpg', '/content/jpg/141100.jpg', '/content/jpg/116100.jpg', '/content/jpg/109700.jpg', '/content/jpg/136705.jpg', '/content/jpg/139400.jpg', '/content/jpg/122600.jpg', '/content/jpg/105500.jpg', '/content/jpg/133003.jpg', '/content/jpg/139103.jpg', '/content/jpg/143900.jpg', '/content/jpg/141400.jpg', '/content/jpg/128002.jpg', '/content/jpg/112902.jpg', '/content/jpg/131500.jpg', '/content/jpg/126401.jpg', '/content/jpg/123101.jpg', '/content/jpg/129002.jpg', '/content/jpg/113501.jpg', '/content/jpg/139004.jpg', '/content/jpg/103100.jpg', '/content/jpg/131200.jpg', '/content/jpg/117102.jpg', '/content/jpg/110900.jpg', '/content/jpg/123800.jpg', '/content/jpg/137602.jpg', '/content/jpg/122301.jpg', '/content/jpg/135801.jpg', '/content/jpg/123501.jpg', '/content/jpg/134701.jpg', '/content/jpg/125801.jpg', '/content/jpg/125200.jpg', '/content/jpg/137007.jpg', '/content/jpg/112901.jpg', '/content/jpg/118802.jpg', '/content/jpg/114903.jpg', '/content/jpg/127503.jpg', '/content/jpg/124700.jpg', '/content/jpg/146201.jpg', '/content/jpg/113600.jpg', '/content/jpg/146401.jpg', '/content/jpg/123000.jpg', '/content/jpg/118200.jpg', '/content/jpg/119301.jpg', '/content/jpg/136505.jpg', '/content/jpg/142302.jpg', '/content/jpg/109801.jpg', '/content/jpg/125601.jpg', '/content/jpg/115000.jpg', '/content/jpg/138604.jpg', '/content/jpg/119602.jpg', '/content/jpg/103601.jpg', '/content/jpg/125700.jpg', '/content/jpg/142500.jpg', '/content/jpg/149201.jpg', '/content/jpg/102801.jpg', '/content/jpg/107601.jpg', '/content/jpg/147000.jpg', '/content/jpg/148202.jpg', '/content/jpg/113400.jpg', '/content/jpg/121900.jpg', '/content/jpg/102700.jpg', '/content/jpg/114503.jpg', '/content/jpg/113800.jpg', '/content/jpg/121001.jpg', '/content/jpg/144301.jpg', '/content/jpg/117601.jpg', '/content/jpg/142300.jpg', '/content/jpg/122900.jpg', '/content/jpg/102101.jpg', '/content/jpg/144101.jpg', '/content/jpg/148700.jpg', '/content/jpg/108400.jpg', '/content/jpg/135301.jpg', '/content/jpg/112601.jpg', '/content/jpg/143201.jpg', '/content/jpg/118600.jpg', '/content/jpg/147202.jpg', '/content/jpg/122002.jpg', '/content/jpg/102501.jpg', '/content/jpg/141201.jpg', '/content/jpg/139504.jpg', '/content/jpg/124001.jpg', '/content/jpg/126806.jpg', '/content/jpg/130701.jpg', '/content/jpg/149801.jpg', '/content/jpg/145700.jpg', '/content/jpg/146602.jpg', '/content/jpg/144803.jpg', '/content/jpg/131801.jpg', '/content/jpg/132900.jpg', '/content/jpg/114101.jpg', '/content/jpg/112602.jpg', '/content/jpg/148900.jpg', '/content/jpg/137400.jpg', '/content/jpg/149901.jpg', '/content/jpg/125401.jpg', '/content/jpg/103301.jpg', '/content/jpg/132505.jpg', '/content/jpg/109802.jpg', '/content/jpg/130401.jpg', '/content/jpg/129003.jpg', '/content/jpg/107001.jpg', '/content/jpg/146405.jpg', '/content/jpg/144100.jpg', '/content/jpg/147500.jpg', '/content/jpg/118201.jpg', '/content/jpg/148300.jpg', '/content/jpg/105701.jpg', '/content/jpg/102800.jpg', '/content/jpg/134400.jpg', '/content/jpg/139601.jpg', '/content/jpg/112407.jpg', '/content/jpg/148200.jpg', '/content/jpg/145802.jpg', '/content/jpg/142001.jpg', '/content/jpg/127800.jpg', '/content/jpg/119400.jpg', '/content/jpg/111401.jpg', '/content/jpg/102300.jpg', '/content/jpg/119703.jpg', '/content/jpg/103500.jpg', '/content/jpg/139502.jpg', '/content/jpg/140401.jpg', '/content/jpg/108501.jpg', '/content/jpg/105002.jpg', '/content/jpg/147301.jpg', '/content/jpg/136706.jpg', '/content/jpg/108106.jpg', '/content/jpg/134901.jpg', '/content/jpg/131800.jpg', '/content/jpg/100502.jpg', '/content/jpg/147302.jpg', '/content/jpg/123601.jpg', '/content/jpg/140900.jpg', '/content/jpg/129602.jpg', '/content/jpg/133701.jpg', '/content/jpg/116900.jpg', '/content/jpg/144800.jpg', '/content/jpg/145200.jpg', '/content/jpg/145002.jpg', '/content/jpg/100302.jpg', '/content/jpg/107900.jpg', '/content/jpg/147700.jpg', '/content/jpg/104201.jpg', '/content/jpg/111400.jpg', '/content/jpg/134500.jpg', '/content/jpg/103701.jpg', '/content/jpg/110301.jpg', '/content/jpg/135500.jpg', '/content/jpg/106704.jpg', '/content/jpg/139205.jpg', '/content/jpg/103204.jpg', '/content/jpg/139800.jpg', '/content/jpg/133002.jpg', '/content/jpg/114502.jpg', '/content/jpg/124202.jpg', '/content/jpg/140502.jpg', '/content/jpg/110000.jpg', '/content/jpg/135001.jpg', '/content/jpg/137704.jpg', '/content/jpg/127301.jpg', '/content/jpg/114901.jpg', '/content/jpg/118601.jpg', '/content/jpg/140301.jpg', '/content/jpg/122700.jpg', '/content/jpg/126703.jpg', '/content/jpg/128401.jpg', '/content/jpg/118302.jpg', '/content/jpg/115501.jpg', '/content/jpg/146300.jpg', '/content/jpg/138701.jpg', '/content/jpg/146205.jpg', '/content/jpg/121401.jpg', '/content/jpg/103401.jpg', '/content/jpg/144400.jpg', '/content/jpg/140802.jpg', '/content/jpg/123900.jpg', '/content/jpg/141300.jpg', '/content/jpg/118002.jpg', '/content/jpg/114301.jpg', '/content/jpg/146801.jpg', '/content/jpg/111901.jpg', '/content/jpg/137700.jpg', '/content/jpg/114400.jpg', '/content/jpg/146101.jpg', '/content/jpg/147900.jpg', '/content/jpg/119605.jpg', '/content/jpg/105800.jpg', '/content/jpg/139701.jpg', '/content/jpg/137003.jpg', '/content/jpg/112600.jpg', '/content/jpg/138800.jpg', '/content/jpg/121403.jpg', '/content/jpg/104301.jpg', '/content/jpg/112404.jpg', '/content/jpg/139602.jpg', '/content/jpg/122800.jpg', '/content/jpg/140901.jpg', '/content/jpg/103200.jpg', '/content/jpg/136000.jpg', '/content/jpg/149602.jpg', '/content/jpg/118101.jpg', '/content/jpg/135700.jpg', '/content/jpg/119900.jpg', '/content/jpg/131601.jpg', '/content/jpg/132001.jpg', '/content/jpg/119600.jpg', '/content/jpg/101800.jpg', '/content/jpg/109900.jpg', '/content/jpg/120703.jpg', '/content/jpg/124600.jpg', '/content/jpg/146302.jpg', '/content/jpg/133101.jpg', '/content/jpg/143702.jpg', '/content/jpg/123203.jpg', '/content/jpg/102401.jpg', '/content/jpg/120101.jpg', '/content/jpg/117400.jpg', '/content/jpg/142002.jpg', '/content/jpg/136403.jpg', '/content/jpg/148500.jpg', '/content/jpg/100800.jpg', '/content/jpg/124302.jpg', '/content/jpg/147103.jpg', '/content/jpg/115200.jpg', '/content/jpg/136800.jpg', '/content/jpg/105901.jpg', '/content/jpg/141801.jpg', '/content/jpg/137401.jpg', '/content/jpg/110302.jpg', '/content/jpg/121400.jpg', '/content/jpg/126301.jpg', '/content/jpg/138309.jpg', '/content/jpg/100401.jpg', '/content/jpg/132701.jpg', '/content/jpg/146204.jpg', '/content/jpg/134002.jpg', '/content/jpg/146400.jpg', '/content/jpg/112400.jpg', '/content/jpg/126800.jpg', '/content/jpg/149902.jpg', '/content/jpg/119401.jpg', '/content/jpg/130800.jpg', '/content/jpg/119101.jpg', '/content/jpg/144401.jpg', '/content/jpg/136301.jpg', '/content/jpg/126705.jpg', '/content/jpg/120300.jpg', '/content/jpg/136504.jpg', '/content/jpg/147701.jpg', '/content/jpg/138300.jpg', '/content/jpg/145001.jpg', '/content/jpg/138305.jpg', '/content/jpg/138308.jpg', '/content/jpg/129700.jpg', '/content/jpg/133600.jpg', '/content/jpg/141200.jpg', '/content/jpg/140300.jpg', '/content/jpg/112100.jpg', '/content/jpg/132601.jpg', '/content/jpg/119501.jpg', '/content/jpg/132301.jpg', '/content/jpg/128500.jpg', '/content/jpg/122801.jpg', '/content/jpg/130600.jpg', '/content/jpg/129701.jpg', '/content/jpg/122503.jpg', '/content/jpg/135802.jpg', '/content/jpg/146100.jpg', '/content/jpg/133801.jpg', '/content/jpg/136805.jpg', '/content/jpg/127900.jpg', '/content/jpg/122709.jpg', '/content/jpg/136801.jpg', '/content/jpg/149700.jpg', '/content/jpg/103000.jpg', '/content/jpg/102900.jpg', '/content/jpg/138708.jpg', '/content/jpg/132801.jpg', '/content/jpg/120900.jpg', '/content/jpg/140400.jpg', '/content/jpg/139204.jpg', '/content/jpg/148601.jpg', '/content/jpg/121600.jpg', '/content/jpg/115800.jpg', '/content/jpg/148602.jpg', '/content/jpg/130200.jpg', '/content/jpg/126704.jpg', '/content/jpg/104000.jpg', '/content/jpg/115500.jpg', '/content/jpg/127701.jpg', '/content/jpg/137502.jpg', '/content/jpg/126001.jpg', '/content/jpg/137101.jpg', '/content/jpg/149300.jpg', '/content/jpg/107902.jpg', '/content/jpg/108600.jpg', '/content/jpg/122101.jpg', '/content/jpg/138801.jpg', '/content/jpg/122203.jpg', '/content/jpg/144103.jpg', '/content/jpg/123300.jpg', '/content/jpg/121000.jpg', '/content/jpg/110702.jpg', '/content/jpg/131000.jpg', '/content/jpg/103001.jpg', '/content/jpg/104202.jpg', '/content/jpg/106801.jpg', '/content/jpg/102302.jpg', '/content/jpg/141800.jpg', '/content/jpg/145500.jpg', '/content/jpg/106902.jpg', '/content/jpg/144701.jpg', '/content/jpg/136700.jpg', '/content/jpg/132504.jpg', '/content/jpg/116000.jpg', '/content/jpg/113601.jpg', '/content/jpg/104006.jpg', '/content/jpg/107800.jpg', '/content/jpg/140001.jpg', '/content/jpg/139105.jpg', '/content/jpg/109501.jpg', '/content/jpg/119300.jpg', '/content/jpg/107300.jpg', '/content/jpg/145100.jpg', '/content/jpg/134800.jpg']\n"
          ],
          "name": "stdout"
        },
        {
          "output_type": "stream",
          "text": [
            "Downloading: \"https://download.pytorch.org/models/resnet50-19c8e357.pth\" to /root/.cache/torch/checkpoints/resnet50-19c8e357.pth\n"
          ],
          "name": "stderr"
        },
        {
          "output_type": "display_data",
          "data": {
            "application/vnd.jupyter.widget-view+json": {
              "model_id": "da3db81a4333468ea5575941c2d3c563",
              "version_minor": 0,
              "version_major": 2
            },
            "text/plain": [
              "HBox(children=(IntProgress(value=0, max=102502400), HTML(value='')))"
            ]
          },
          "metadata": {
            "tags": []
          }
        },
        {
          "output_type": "stream",
          "text": [
            "\n"
          ],
          "name": "stdout"
        },
        {
          "output_type": "stream",
          "text": [
            "02:03:24.493: Writing log file to feature.h5.log\n",
            "100%|██████████| 150/150 [02:10<00:00,  1.15it/s]\n",
            "02:05:45.204: Feature shape: (2048,)\n",
            "02:05:45.205: Outputting features\n",
            "02:05:45.206: Stacking features\n",
            "02:05:45.216: Output feature size: (1491, 2048)\n"
          ],
          "name": "stderr"
        }
      ]
    },
    {
      "cell_type": "markdown",
      "metadata": {
        "id": "G5aGF8Oi7lNo",
        "colab_type": "text"
      },
      "source": [
        "# Annoy indexing"
      ]
    },
    {
      "cell_type": "code",
      "metadata": {
        "id": "giyI93p27tjb",
        "colab_type": "code",
        "colab": {}
      },
      "source": [
        "from annoy import AnnoyIndex\n",
        "\n",
        "\n",
        "class AnnoyFeaturesIndexing:\n",
        "    \"\"\"\n",
        "    Index features by AnnoyIndex.\n",
        "\n",
        "    Parameters\n",
        "        ----------\n",
        "        feature_name : str\n",
        "            Features as HDF5 to this location.\n",
        "        index_name : str\n",
        "            Index features as Ann to this location.\n",
        "    \"\"\"\n",
        "\n",
        "    def __init__(self, feature_name, index_name):\n",
        "        self.feature_name = feature_name\n",
        "        self.index_name = index_name\n",
        "\n",
        "    def load_features(self):\n",
        "        \"\"\"\n",
        "        Read features, path_images from HDF5 file.\n",
        "        \"\"\"\n",
        "        f = h5py.File(self.feature_name, 'r')\n",
        "        features = f['features'][:]\n",
        "        # print(features.shape)\n",
        "        path_images = f['path_images']\n",
        "        path_images = list(path_images)\n",
        "        # print(len(path_images))\n",
        "        return features, path_images\n",
        "\n",
        "    def make_index(self):\n",
        "        \"\"\"\n",
        "        Indexing for feature vectors.\n",
        "        \"\"\"\n",
        "        features, path_images = self.load_features()\n",
        "        f = len(features[0])\n",
        "        # Length of item vector that will be indexed\n",
        "        t = AnnoyIndex(f, 'angular')\n",
        "        for i in range(len(features)):\n",
        "            v = features[i]\n",
        "            t.add_item(i, v)\n",
        "\n",
        "        t.build(10)  # 10 trees\n",
        "        t.save(self.index_name)\n",
        "    def load_index(self):\n",
        "        \"\"\"\n",
        "        Loading  index form index file (.ann).\n",
        "        \"\"\"\n",
        "        features, path_images = self.load_features()\n",
        "        f = len(features[0])\n",
        "        u = AnnoyIndex(f, 'angular')\n",
        "        u.load(self.index_name)\n",
        "        return u\n",
        "\n"
      ],
      "execution_count": 0,
      "outputs": []
    },
    {
      "cell_type": "code",
      "metadata": {
        "id": "JSQaTsb7-Oo8",
        "colab_type": "code",
        "outputId": "a5105c80-1b6d-495c-b2f5-ba5d0d808f0b",
        "colab": {
          "base_uri": "https://localhost:8080/",
          "height": 34
        }
      },
      "source": [
        "import time\n",
        "annoy_index = AnnoyFeaturesIndexing('feature.h5','feature_annoy.ann')\n",
        "t0 = time.time()\n",
        "annoy_index.make_index()\n",
        "print('Time indexing features: {}'.format(time.time()-t0))"
      ],
      "execution_count": 13,
      "outputs": [
        {
          "output_type": "stream",
          "text": [
            "Time indexing features: 0.48802781105041504\n"
          ],
          "name": "stdout"
        }
      ]
    },
    {
      "cell_type": "markdown",
      "metadata": {
        "id": "s2XwegTa_nDO",
        "colab_type": "text"
      },
      "source": [
        "# Faiss Indexing"
      ]
    },
    {
      "cell_type": "code",
      "metadata": {
        "id": "hzR7T69M-xt-",
        "colab_type": "code",
        "colab": {}
      },
      "source": [
        "import faiss\n",
        "class FaissFeaturesIndexing:\n",
        "    \"\"\"\n",
        "    Index features by Faiss.\n",
        "\n",
        "    Parameters\n",
        "        ----------\n",
        "        feature_name : str\n",
        "            Features as HDF5 to this location.\n",
        "        index_name : str\n",
        "            Index features as index to this location.\n",
        "    \"\"\"\n",
        "\n",
        "    def __init__(self, feature_name, index_name,use_gpu=False):\n",
        "        self.feature_name = feature_name\n",
        "        self.index_name = index_name\n",
        "        self.use_gpu = use_gpu\n",
        "\n",
        "    def load_features(self):\n",
        "        \"\"\"\n",
        "        Read features, path_images from HDF5 file.\n",
        "        \"\"\"\n",
        "        f = h5py.File(self.feature_name, 'r')\n",
        "        features = f['features'][:]\n",
        "        # print(features.shape)\n",
        "        path_images = f['path_images']\n",
        "        path_images = list(path_images)\n",
        "        # print(len(path_images))\n",
        "        return features, path_images\n",
        "\n",
        "    def make_index(self, index_key=\"Flat\",metric='METRIC_L2'):\n",
        "        \"\"\"\n",
        "        Indexing for feature vectors.\n",
        "\n",
        "        Parameters\n",
        "        ----------\n",
        "          metric : faiss::metric::MetricType\n",
        "          METRIC_L2 : Euclidean L2-distance\n",
        "          METRIC_INNER_PRODUCT : Inner product, also called cosine distance\n",
        "        \"\"\"\n",
        "        features, path_images = self.load_features()\n",
        "        d = len(features[0])\n",
        "        # if metric :\n",
        "        #   print(metric)\n",
        "        #   index = faiss.index_factory(d, index_key, metric)\n",
        "        # else:\n",
        "        #   index = faiss.index_factory(d, index_key)\n",
        "        print(metric)\n",
        "        index = faiss.index_factory(d, index_key, faiss.__dict__[metric])\n",
        "        if self.use_gpu:\n",
        "          print('GPU')\n",
        "          assert faiss.StandardGpuResources, \\\n",
        "              \"FAISS was not compiled with GPU support, or loading _swigfaiss_gpu.so failed\"\n",
        "          res = faiss.StandardGpuResources()\n",
        "          dev_no = 0\n",
        "          # transfer to GPU (may be partial)\n",
        "          index = faiss.index_cpu_to_gpu(res, dev_no, index)\n",
        "          params = faiss.GpuParameterSpace()\n",
        "        else:\n",
        "          print('CPU')\n",
        "          params = faiss.ParameterSpace()\n",
        "        \n",
        "        params.initialize(index)\n",
        "        index.train(features)\n",
        "        index.add(features)\n",
        "        if self.use_gpu:\n",
        "            index = faiss.index_gpu_to_cpu(index)\n",
        "        \n",
        "        faiss.write_index(index,self.index_name)\n",
        "        \n",
        "    def load_index(self):\n",
        "        \"\"\"\n",
        "        Loading  index form index file (.index).\n",
        "        \"\"\"\n",
        "        index = faiss.read_index(self.index_name)\n",
        "        if self.use_gpu:\n",
        "            assert faiss.StandardGpuResources, \\\n",
        "                \"FAISS was not compiled with GPU support, or loading _swigfaiss_gpu.so failed\"\n",
        "            res = faiss.StandardGpuResources()\n",
        "            dev_no = 0\n",
        "            # transfer to GPU (may be partial)\n",
        "            index = faiss.index_cpu_to_gpu(res, dev_no, index)\n",
        "\n",
        "        return index"
      ],
      "execution_count": 0,
      "outputs": []
    },
    {
      "cell_type": "code",
      "metadata": {
        "id": "zx7owVIPbvCs",
        "colab_type": "code",
        "outputId": "1ee5748a-930b-48c5-c455-56990f99e458",
        "colab": {
          "base_uri": "https://localhost:8080/",
          "height": 68
        }
      },
      "source": [
        "index_faiss_flat_cosine = FaissFeaturesIndexing('feature.h5','feature_flat_cosine.index')\n",
        "t0 = time.time()\n",
        "index_faiss_flat_cosine.make_index('Flat','METRIC_INNER_PRODUCT')\n",
        "print('Time indexing features: {}'.format(time.time()-t0))"
      ],
      "execution_count": 52,
      "outputs": [
        {
          "output_type": "stream",
          "text": [
            "METRIC_INNER_PRODUCT\n",
            "CPU\n",
            "Time indexing features: 0.14237236976623535\n"
          ],
          "name": "stdout"
        }
      ]
    },
    {
      "cell_type": "code",
      "metadata": {
        "id": "KO5wKYLXCS7b",
        "colab_type": "code",
        "outputId": "8560bb78-15a1-4e4d-aeef-2ab6e3c03d09",
        "colab": {
          "base_uri": "https://localhost:8080/",
          "height": 68
        }
      },
      "source": [
        "index_faiss_flat = FaissFeaturesIndexing('feature.h5','feature_flat.index')\n",
        "t0 = time.time()\n",
        "index_faiss_flat.make_index('Flat')\n",
        "print('Time indexing features: {}'.format(time.time()-t0))"
      ],
      "execution_count": 58,
      "outputs": [
        {
          "output_type": "stream",
          "text": [
            "METRIC_L2\n",
            "CPU\n",
            "Time indexing features: 0.14594388008117676\n"
          ],
          "name": "stdout"
        }
      ]
    },
    {
      "cell_type": "code",
      "metadata": {
        "id": "D8PR5VOX3kzN",
        "colab_type": "code",
        "outputId": "909bc724-ae93-4b45-de83-f838ea41eafc",
        "colab": {
          "base_uri": "https://localhost:8080/",
          "height": 68
        }
      },
      "source": [
        "index_faiss_flat_gpu = FaissFeaturesIndexing('feature.h5','feature_flat_gpu.index',True)\n",
        "t0 = time.time()\n",
        "index_faiss_flat_gpu.make_index('Flat')\n",
        "print('Time indexing features: {}'.format(time.time()-t0))"
      ],
      "execution_count": 59,
      "outputs": [
        {
          "output_type": "stream",
          "text": [
            "METRIC_L2\n",
            "GPU\n",
            "Time indexing features: 0.29351091384887695\n"
          ],
          "name": "stdout"
        }
      ]
    },
    {
      "cell_type": "code",
      "metadata": {
        "id": "-YbrBDTXCTAw",
        "colab_type": "code",
        "outputId": "90f4f64e-8c05-44de-b652-db5fc5a28580",
        "colab": {
          "base_uri": "https://localhost:8080/",
          "height": 68
        }
      },
      "source": [
        "index_faiss_ivf = FaissFeaturesIndexing('feature.h5','feature_ivf.index')\n",
        "t0 = time.time()\n",
        "index_faiss_ivf.make_index('IVF155,Flat')\n",
        "print('Time indexing features: {}'.format(time.time()-t0))"
      ],
      "execution_count": 60,
      "outputs": [
        {
          "output_type": "stream",
          "text": [
            "METRIC_L2\n",
            "CPU\n",
            "Time indexing features: 0.5220115184783936\n"
          ],
          "name": "stdout"
        }
      ]
    },
    {
      "cell_type": "code",
      "metadata": {
        "id": "IzqyB2-x4Zf_",
        "colab_type": "code",
        "outputId": "39887b7f-196f-4205-d2eb-40fbf488fa9c",
        "colab": {
          "base_uri": "https://localhost:8080/",
          "height": 68
        }
      },
      "source": [
        "index_faiss_ivf_gpu = FaissFeaturesIndexing('feature.h5','feature_ivf_gpu.index',True)\n",
        "t0 = time.time()\n",
        "index_faiss_ivf_gpu.make_index('IVF155,Flat')\n",
        "print('Time indexing features: {}'.format(time.time()-t0))"
      ],
      "execution_count": 61,
      "outputs": [
        {
          "output_type": "stream",
          "text": [
            "METRIC_L2\n",
            "GPU\n",
            "Time indexing features: 0.4934120178222656\n"
          ],
          "name": "stdout"
        }
      ]
    },
    {
      "cell_type": "code",
      "metadata": {
        "id": "3it7gV2S2SCQ",
        "colab_type": "code",
        "outputId": "eb5146d2-2ac7-4810-d683-7f3e35b4f765",
        "colab": {
          "base_uri": "https://localhost:8080/",
          "height": 68
        }
      },
      "source": [
        "index_faiss_pca = FaissFeaturesIndexing('feature.h5','feature_pca.index')\n",
        "t0 = time.time()\n",
        "index_faiss_pca.make_index('PCA64,Flat')\n",
        "print('Time indexing features: {}'.format(time.time()-t0))"
      ],
      "execution_count": 62,
      "outputs": [
        {
          "output_type": "stream",
          "text": [
            "METRIC_L2\n",
            "CPU\n",
            "Time indexing features: 1.8109667301177979\n"
          ],
          "name": "stdout"
        }
      ]
    },
    {
      "cell_type": "code",
      "metadata": {
        "id": "bEsfsmYl4jAI",
        "colab_type": "code",
        "outputId": "6a04ca7b-38ea-404f-f29e-62bf3016fa3e",
        "colab": {
          "base_uri": "https://localhost:8080/",
          "height": 68
        }
      },
      "source": [
        "index_faiss_pca_gpu = FaissFeaturesIndexing('feature.h5','feature_pca_gpu.index',True)\n",
        "t0 = time.time()\n",
        "index_faiss_pca_gpu.make_index('PCA64,Flat')\n",
        "print('Time indexing features: {}'.format(time.time()-t0))"
      ],
      "execution_count": 63,
      "outputs": [
        {
          "output_type": "stream",
          "text": [
            "METRIC_L2\n",
            "GPU\n",
            "Time indexing features: 1.986217975616455\n"
          ],
          "name": "stdout"
        }
      ]
    },
    {
      "cell_type": "code",
      "metadata": {
        "id": "xDXnDtoYwLbh",
        "colab_type": "code",
        "outputId": "67094196-200d-41db-b96b-9ac4c17fe2c9",
        "colab": {
          "base_uri": "https://localhost:8080/",
          "height": 68
        }
      },
      "source": [
        "index_faiss_pca_ivf = FaissFeaturesIndexing('feature.h5','feature_pca_ivf.index')\n",
        "t0 = time.time()\n",
        "index_faiss_pca_ivf.make_index('PCA64,IVF160,Flat')\n",
        "print('Time indexing features: {}'.format(time.time()-t0))"
      ],
      "execution_count": 64,
      "outputs": [
        {
          "output_type": "stream",
          "text": [
            "METRIC_L2\n",
            "CPU\n",
            "Time indexing features: 1.9771959781646729\n"
          ],
          "name": "stdout"
        }
      ]
    },
    {
      "cell_type": "code",
      "metadata": {
        "id": "ul4XT_rZ46kL",
        "colab_type": "code",
        "outputId": "8951af61-cf9f-41d6-f53e-80f9da22dd5a",
        "colab": {
          "base_uri": "https://localhost:8080/",
          "height": 68
        }
      },
      "source": [
        "index_faiss_pca_ivf_gpu = FaissFeaturesIndexing('feature.h5','feature_pca_ivf_gpu.index',True)\n",
        "t0 = time.time()\n",
        "index_faiss_pca_ivf_gpu.make_index('PCA64,IVF160,Flat')\n",
        "print('Time indexing features: {}'.format(time.time()-t0))"
      ],
      "execution_count": 65,
      "outputs": [
        {
          "output_type": "stream",
          "text": [
            "METRIC_L2\n",
            "GPU\n",
            "Time indexing features: 1.9358184337615967\n"
          ],
          "name": "stdout"
        }
      ]
    },
    {
      "cell_type": "markdown",
      "metadata": {
        "id": "wHD6lW6vCTUx",
        "colab_type": "text"
      },
      "source": [
        "# Evaluation"
      ]
    },
    {
      "cell_type": "code",
      "metadata": {
        "id": "nO72rycfCYJm",
        "colab_type": "code",
        "outputId": "e7b6434c-d75f-4e5c-cdc4-dd71bd60b751",
        "colab": {
          "base_uri": "https://localhost:8080/",
          "height": 71
        }
      },
      "source": [
        "file_name = 'perfect_result.dat'\n",
        "fnam = os.path.join(PATH_EVAL,file_name)\n",
        "query_list = []\n",
        "with open(fnam) as f:\n",
        "    for line in f:\n",
        "      line = line.split(' ')[0]\n",
        "      path = os.path.join(PATH,line)\n",
        "      query_list.append(path)\n",
        "print(query_list[:10])\n",
        "print(len(query_list))"
      ],
      "execution_count": 29,
      "outputs": [
        {
          "output_type": "stream",
          "text": [
            "['/content/jpg/107100.jpg', '/content/jpg/147800.jpg', '/content/jpg/143000.jpg', '/content/jpg/116400.jpg', '/content/jpg/107900.jpg', '/content/jpg/124300.jpg', '/content/jpg/126000.jpg', '/content/jpg/105100.jpg', '/content/jpg/129700.jpg', '/content/jpg/115500.jpg']\n",
            "500\n"
          ],
          "name": "stdout"
        }
      ]
    },
    {
      "cell_type": "code",
      "metadata": {
        "id": "mtglx9a8Cb8A",
        "colab_type": "code",
        "outputId": "9be7cc9d-4be3-4b68-c316-78f223f8fc30",
        "colab": {
          "base_uri": "https://localhost:8080/",
          "height": 204
        }
      },
      "source": [
        "extract.extract_features_to_disk(query_list,'query_list.h5')"
      ],
      "execution_count": 30,
      "outputs": [
        {
          "output_type": "stream",
          "text": [
            "02:12:14.298: Writing log file to query_list.h5.log\n",
            "02:12:14.298: Writing log file to query_list.h5.log\n",
            "100%|██████████| 50/50 [00:41<00:00,  1.58it/s]\n",
            "02:12:55.816: Feature shape: (2048,)\n",
            "02:12:55.816: Feature shape: (2048,)\n",
            "02:12:55.817: Outputting features\n",
            "02:12:55.817: Outputting features\n",
            "02:12:55.820: Stacking features\n",
            "02:12:55.820: Stacking features\n",
            "02:12:55.825: Output feature size: (500, 2048)\n",
            "02:12:55.825: Output feature size: (500, 2048)\n"
          ],
          "name": "stderr"
        }
      ]
    },
    {
      "cell_type": "code",
      "metadata": {
        "id": "pZsIFESW8Jdi",
        "colab_type": "code",
        "colab": {}
      },
      "source": [
        "class SimilaritySearch:\n",
        "    \"\"\"\n",
        "    Search and rank image.\n",
        "    \"\"\"\n",
        "\n",
        "    def __init__(self,feature_name):\n",
        "        self.features, self.path_images = load_features(feature_name)\n",
        "    def search_topk(self, feature,index, k=10,type='annoy'):\n",
        "        \"\"\"\n",
        "        Retrieve the nearest k images.\n",
        "\n",
        "        Parameters\n",
        "        ----------\n",
        "        img : vector\n",
        "            Vector image search.\n",
        "        k : int\n",
        "            The nearest number of images will be returned (default: 10).\n",
        "        \"\"\"\n",
        "        top = {}\n",
        "        try:\n",
        "            \n",
        "            if type=='annoy':\n",
        "              # knn = AnnoyFeaturesIndexing(self.feature_name, self.index_name)\n",
        "              # index = knn.load_index()\n",
        "              res = index.get_nns_by_vector(feature, k, include_distances=True)\n",
        "              D = res[1]\n",
        "              I = res[0]\n",
        "            else:\n",
        "              # index_faiss = FaissFeaturesIndexing(self.feature_name,self.index_name,use_gpu)\n",
        "              # index = index_faiss.load_index()\n",
        "              # if use_gpu:\n",
        "              #   assert faiss.StandardGpuResources, \\\n",
        "              #     \"FAISS was not compiled with GPU support, or loading _swigfaiss_gpu.so failed\"\n",
        "              #   res = faiss.StandardGpuResources()\n",
        "              #   dev_no = 0\n",
        "              #   # transfer to GPU (may be partial)\n",
        "              #   index = faiss.index_cpu_to_gpu(res, dev_no, index)\n",
        "              D, I = index.search(feature.reshape(1,-1), k)\n",
        "              D = D[0]\n",
        "              I = I[0]\n",
        "        except:\n",
        "            return top\n",
        "        for i, idx in enumerate(I):\n",
        "            kq = []\n",
        "            kq.append(self.path_images[idx])\n",
        "            kq.append(D[i])\n",
        "            top[str(i)] = kq\n",
        "\n",
        "        return top"
      ],
      "execution_count": 0,
      "outputs": []
    },
    {
      "cell_type": "code",
      "metadata": {
        "id": "MaZn5zyGCiNQ",
        "colab_type": "code",
        "colab": {}
      },
      "source": [
        "features, path_images = load_features('feature.h5')\n",
        "def query_result(index,type='faiss',input='query_list.h5',output='result_test.dat'):\n",
        "  query, query_list = load_features(input)\n",
        "  file_name = output\n",
        "  file_name = os.path.join(PATH_EVAL,file_name)\n",
        "  with open(file_name, 'w') as f:\n",
        "    for i,que in enumerate(query):\n",
        "      k = 10\n",
        "      if type == 'faiss':\n",
        "        D, I = index.search(que.reshape(1,-1), k)\n",
        "      else:\n",
        "        res = index.get_nns_by_vector(que, k, include_distances=True)\n",
        "        I = res\n",
        "      name = query_list[i]\n",
        "      name = name.split('/')[-1]\n",
        "      f.write(name)\n",
        "      f.write(' ')\n",
        "      for j,im in enumerate(I[0]):\n",
        "        f.write(str(j))\n",
        "        f.write(' ')\n",
        "        name = path_images[im]\n",
        "        name = name.split('/')[-1]\n",
        "        # print(name)\n",
        "        f.write(name)\n",
        "        f.write(' ')\n",
        "      f.write('\\n')\n",
        "  print(\"The results of 500 query  is saved in \"+file_name)"
      ],
      "execution_count": 0,
      "outputs": []
    },
    {
      "cell_type": "code",
      "metadata": {
        "id": "gd8uk3XoAfa7",
        "colab_type": "code",
        "colab": {}
      },
      "source": [
        "search = SimilaritySearch('feature.h5')\n",
        "query, query_list = load_features('query_list.h5')\n",
        "feature_test = query[0]"
      ],
      "execution_count": 0,
      "outputs": []
    },
    {
      "cell_type": "code",
      "metadata": {
        "id": "QqS5wVqyCrwb",
        "colab_type": "code",
        "outputId": "b33c259a-5a17-4e55-87e4-340447c742e8",
        "colab": {
          "base_uri": "https://localhost:8080/",
          "height": 51
        }
      },
      "source": [
        "index = annoy_index.load_index()\n",
        "query_result(index,'annoy','query_list.h5','result_annoy.dat')\n",
        "t0 = time.time()\n",
        "search.search_topk(feature_test,index,10,'annoy')\n",
        "print('Time query cpu: {}'.format(time.time()-t0))"
      ],
      "execution_count": 34,
      "outputs": [
        {
          "output_type": "stream",
          "text": [
            "The results of 500 query  is saved in /content/eval_holidays/result_annoy.dat\n",
            "Time query cpu: 0.0010190010070800781\n"
          ],
          "name": "stdout"
        }
      ]
    },
    {
      "cell_type": "code",
      "metadata": {
        "id": "-8ayooOMdulP",
        "colab_type": "code",
        "outputId": "5b782f20-11e1-47ca-a695-43f8de99cbf1",
        "colab": {
          "base_uri": "https://localhost:8080/",
          "height": 68
        }
      },
      "source": [
        "index = index_faiss_flat_cosine.load_index()\n",
        "query_result(index,'faiss','query_list.h5','result_faiss_cosine.dat')\n",
        "t0 = time.time()\n",
        "search.search_topk(feature_test,index,10,'faiss')\n",
        "print('Time query cpu: {}'.format(time.time()-t0))\n",
        "index = index_faiss_flat_gpu.load_index()\n",
        "t0 = time.time()\n",
        "search.search_topk(feature_test,index,10,'faiss')\n",
        "print('Time query gpu: {}'.format(time.time()-t0))"
      ],
      "execution_count": 53,
      "outputs": [
        {
          "output_type": "stream",
          "text": [
            "The results of 500 query  is saved in /content/eval_holidays/result_faiss_cosine.dat\n",
            "Time query cpu: 0.004729032516479492\n",
            "Time query gpu: 0.0006008148193359375\n"
          ],
          "name": "stdout"
        }
      ]
    },
    {
      "cell_type": "code",
      "metadata": {
        "id": "oDypLTiAP4kj",
        "colab_type": "code",
        "outputId": "483f0490-cd1b-4158-8c3b-94eb070c6342",
        "colab": {
          "base_uri": "https://localhost:8080/",
          "height": 68
        }
      },
      "source": [
        "index = index_faiss_flat.load_index()\n",
        "query_result(index,'faiss','query_list.h5','result_faiss.dat')\n",
        "t0 = time.time()\n",
        "search.search_topk(feature_test,index,10,'faiss')\n",
        "print('Time query cpu: {}'.format(time.time()-t0))\n",
        "index = index_faiss_flat_gpu.load_index()\n",
        "t0 = time.time()\n",
        "search.search_topk(feature_test,index,10,'faiss')\n",
        "print('Time query gpu: {}'.format(time.time()-t0))"
      ],
      "execution_count": 66,
      "outputs": [
        {
          "output_type": "stream",
          "text": [
            "The results of 500 query  is saved in /content/eval_holidays/result_faiss.dat\n",
            "Time query cpu: 0.0036628246307373047\n",
            "Time query gpu: 0.0004284381866455078\n"
          ],
          "name": "stdout"
        }
      ]
    },
    {
      "cell_type": "code",
      "metadata": {
        "id": "4ehqWTo7zwLv",
        "colab_type": "code",
        "outputId": "7a3c54d7-b89b-46b5-8ae1-f1313bab4796",
        "colab": {
          "base_uri": "https://localhost:8080/",
          "height": 68
        }
      },
      "source": [
        "index = index_faiss_ivf.load_index()\n",
        "query_result(index,'faiss','query_list.h5','feature_ivf.dat')\n",
        "t0 = time.time()\n",
        "search.search_topk(feature_test,index,10,'faiss')\n",
        "print('Time query cpu: {}'.format(time.time()-t0))\n",
        "index = index_faiss_ivf_gpu.load_index()\n",
        "t0 = time.time()\n",
        "search.search_topk(feature_test,index,10,'faiss')\n",
        "print('Time query gpu: {}'.format(time.time()-t0))"
      ],
      "execution_count": 67,
      "outputs": [
        {
          "output_type": "stream",
          "text": [
            "The results of 500 query  is saved in /content/eval_holidays/feature_ivf.dat\n",
            "Time query cpu: 0.0006401538848876953\n",
            "Time query gpu: 0.0005524158477783203\n"
          ],
          "name": "stdout"
        }
      ]
    },
    {
      "cell_type": "code",
      "metadata": {
        "id": "OumnRH0Q3EDI",
        "colab_type": "code",
        "outputId": "f6d36bab-9a27-42a1-a8bb-0bf665a8423b",
        "colab": {
          "base_uri": "https://localhost:8080/",
          "height": 68
        }
      },
      "source": [
        "index = index_faiss_pca.load_index()\n",
        "query_result(index,'faiss','query_list.h5','feature_pca.dat')\n",
        "t0 = time.time()\n",
        "search.search_topk(feature_test,index,10,'faiss')\n",
        "print('Time query cpu: {}'.format(time.time()-t0))\n",
        "index = index_faiss_pca_gpu.load_index()\n",
        "t0 = time.time()\n",
        "search.search_topk(feature_test,index,10,'faiss')\n",
        "print('Time query gpu: {}'.format(time.time()-t0))"
      ],
      "execution_count": 80,
      "outputs": [
        {
          "output_type": "stream",
          "text": [
            "The results of 500 query  is saved in /content/eval_holidays/feature_pca.dat\n",
            "Time query cpu: 0.0004715919494628906\n",
            "Time query gpu: 0.0005762577056884766\n"
          ],
          "name": "stdout"
        }
      ]
    },
    {
      "cell_type": "code",
      "metadata": {
        "id": "jwc8bsZLzwP9",
        "colab_type": "code",
        "outputId": "9a982c9f-fa91-4963-cba9-0f8338f8e8db",
        "colab": {
          "base_uri": "https://localhost:8080/",
          "height": 68
        }
      },
      "source": [
        "index = index_faiss_pca_ivf.load_index()\n",
        "query_result(index,'faiss','query_list.h5','feature_pca_ivf.dat')\n",
        "t0 = time.time()\n",
        "search.search_topk(feature_test,index,10,'faiss')\n",
        "print('Time query cpu: {}'.format(time.time()-t0))\n",
        "index = index_faiss_pca_ivf_gpu.load_index()\n",
        "t0 = time.time()\n",
        "search.search_topk(feature_test,index,10,'faiss')\n",
        "print('Time query gpu: {}'.format(time.time()-t0))"
      ],
      "execution_count": 69,
      "outputs": [
        {
          "output_type": "stream",
          "text": [
            "The results of 500 query  is saved in /content/eval_holidays/feature_pca_ivf.dat\n",
            "Time query cpu: 0.0006968975067138672\n",
            "Time query gpu: 0.000537872314453125\n"
          ],
          "name": "stdout"
        }
      ]
    },
    {
      "cell_type": "code",
      "metadata": {
        "id": "OP8Bt5_ZFLbI",
        "colab_type": "code",
        "outputId": "8d968f29-2493-46a8-a57a-3de2ec741025",
        "colab": {
          "base_uri": "https://localhost:8080/",
          "height": 34
        }
      },
      "source": [
        "%cd /content/eval_holidays"
      ],
      "execution_count": 70,
      "outputs": [
        {
          "output_type": "stream",
          "text": [
            "/content/eval_holidays\n"
          ],
          "name": "stdout"
        }
      ]
    },
    {
      "cell_type": "code",
      "metadata": {
        "id": "5A5OwiPaFPF_",
        "colab_type": "code",
        "outputId": "d004257b-326c-4ead-bb4d-0ffbe353a461",
        "colab": {
          "base_uri": "https://localhost:8080/",
          "height": 34
        }
      },
      "source": [
        "!python2 holidays_map.py result_annoy.dat"
      ],
      "execution_count": 71,
      "outputs": [
        {
          "output_type": "stream",
          "text": [
            "mAP for result_annoy.dat: 0.77607\n"
          ],
          "name": "stdout"
        }
      ]
    },
    {
      "cell_type": "code",
      "metadata": {
        "id": "t3R2MYLNeX9R",
        "colab_type": "code",
        "outputId": "ab3ce540-ecc6-4588-f284-87a7c26524a1",
        "colab": {
          "base_uri": "https://localhost:8080/",
          "height": 34
        }
      },
      "source": [
        "!python2 holidays_map.py result_faiss_cosine.dat"
      ],
      "execution_count": 72,
      "outputs": [
        {
          "output_type": "stream",
          "text": [
            "mAP for result_faiss_cosine.dat: 0.34740\n"
          ],
          "name": "stdout"
        }
      ]
    },
    {
      "cell_type": "code",
      "metadata": {
        "id": "amPotCeAQqCT",
        "colab_type": "code",
        "outputId": "6b6c9bc0-c07b-4552-90d6-2f9265c7cc0e",
        "colab": {
          "base_uri": "https://localhost:8080/",
          "height": 34
        }
      },
      "source": [
        "!python2 holidays_map.py result_faiss.dat"
      ],
      "execution_count": 73,
      "outputs": [
        {
          "output_type": "stream",
          "text": [
            "mAP for result_faiss.dat: 0.73511\n"
          ],
          "name": "stdout"
        }
      ]
    },
    {
      "cell_type": "code",
      "metadata": {
        "id": "6g5A2Xo-16GV",
        "colab_type": "code",
        "outputId": "edd886fd-e5f0-4805-e325-ea6cdc914a08",
        "colab": {
          "base_uri": "https://localhost:8080/",
          "height": 34
        }
      },
      "source": [
        "!python2 holidays_map.py feature_ivf.dat"
      ],
      "execution_count": 74,
      "outputs": [
        {
          "output_type": "stream",
          "text": [
            "mAP for feature_ivf.dat: 0.64045\n"
          ],
          "name": "stdout"
        }
      ]
    },
    {
      "cell_type": "code",
      "metadata": {
        "id": "jMCrpmYH3PVU",
        "colab_type": "code",
        "outputId": "84bd7967-01b5-45d8-a033-b3e5d7c6b984",
        "colab": {
          "base_uri": "https://localhost:8080/",
          "height": 34
        }
      },
      "source": [
        "!python2 holidays_map.py feature_pca.dat"
      ],
      "execution_count": 75,
      "outputs": [
        {
          "output_type": "stream",
          "text": [
            "mAP for feature_pca.dat: 0.72290\n"
          ],
          "name": "stdout"
        }
      ]
    },
    {
      "cell_type": "code",
      "metadata": {
        "id": "0m-7zYem16Db",
        "colab_type": "code",
        "outputId": "28f8805d-dbc2-467a-9424-b7529757ef06",
        "colab": {
          "base_uri": "https://localhost:8080/",
          "height": 34
        }
      },
      "source": [
        "!python2 holidays_map.py feature_pca_ivf.dat"
      ],
      "execution_count": 76,
      "outputs": [
        {
          "output_type": "stream",
          "text": [
            "mAP for feature_pca_ivf.dat: 0.61085\n"
          ],
          "name": "stdout"
        }
      ]
    },
    {
      "cell_type": "code",
      "metadata": {
        "id": "Z-J6cJxRHrfS",
        "colab_type": "code",
        "outputId": "0c2b391e-bf21-4c37-c486-0b5545e6c3cb",
        "colab": {
          "base_uri": "https://localhost:8080/",
          "height": 34
        }
      },
      "source": [
        "%cd /content"
      ],
      "execution_count": 77,
      "outputs": [
        {
          "output_type": "stream",
          "text": [
            "/content\n"
          ],
          "name": "stdout"
        }
      ]
    }
  ]
}